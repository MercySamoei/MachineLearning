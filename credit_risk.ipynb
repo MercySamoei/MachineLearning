{
  "nbformat": 4,
  "nbformat_minor": 0,
  "metadata": {
    "colab": {
      "provenance": [],
      "mount_file_id": "16ecF1UvE0dL1AdBnnoft3qNiD27-jd12",
      "authorship_tag": "ABX9TyNkXifgd2O7hxAjxVJnSSXo",
      "include_colab_link": true
    },
    "kernelspec": {
      "name": "python3",
      "display_name": "Python 3"
    },
    "language_info": {
      "name": "python"
    }
  },
  "cells": [
    {
      "cell_type": "markdown",
      "metadata": {
        "id": "view-in-github",
        "colab_type": "text"
      },
      "source": [
        "<a href=\"https://colab.research.google.com/github/MercySamoei/MachineLearning/blob/main/credit_risk.ipynb\" target=\"_parent\"><img src=\"https://colab.research.google.com/assets/colab-badge.svg\" alt=\"Open In Colab\"/></a>"
      ]
    },
    {
      "cell_type": "code",
      "execution_count": 183,
      "metadata": {
        "id": "9ISyDR3xcL-2"
      },
      "outputs": [],
      "source": [
        "import pandas as pd\n",
        "import numpy as np\n",
        "import missingno as msno\n",
        "import matplotlib.pyplot as plt\n",
        "import seaborn as sns\n",
        "from sklearn.preprocessing import LabelEncoder\n",
        "from sklearn.model_selection import train_test_split\n",
        "from sklearn.preprocessing import MaxAbsScaler, StandardScaler\n",
        "from sklearn.ensemble import RandomForestClassifier \n",
        "from sklearn.metrics import accuracy_score\n",
        "from sklearn.linear_model import LogisticRegression\n"
      ]
    },
    {
      "cell_type": "code",
      "source": [
        "data = pd.read_csv('raw-data.csv')"
      ],
      "metadata": {
        "colab": {
          "base_uri": "https://localhost:8080/"
        },
        "id": "nCwbXIave2ZQ",
        "outputId": "42e8c1a1-d6a5-4354-ccf2-9cbd7ebf4b1e"
      },
      "execution_count": 143,
      "outputs": [
        {
          "output_type": "stream",
          "name": "stderr",
          "text": [
            "<ipython-input-143-dcd8e1596214>:1: DtypeWarning: Columns (9,12,13,14,15) have mixed types. Specify dtype option on import or set low_memory=False.\n",
            "  data = pd.read_csv('raw-data.csv')\n"
          ]
        }
      ]
    },
    {
      "cell_type": "code",
      "source": [
        "pd.options.display.max_columns = 100\n",
        "pd.options.display.max_rows = 100"
      ],
      "metadata": {
        "id": "wOV_OLZufRoB"
      },
      "execution_count": 144,
      "outputs": []
    },
    {
      "cell_type": "code",
      "source": [
        "loan_df = data.rename(columns={'V1': 'Customer ID',\n",
        "'V2': 'Customer has bounced in first EMI', \n",
        "'V3': 'No of times bounced 12 months',\n",
        "'V4': 'Maximum MOB',\n",
        "'V5': 'No of times bounced while repaying the loan',\n",
        "'V6': 'EMI',\n",
        "'V7': 'Loan Amount',\n",
        "'V8': 'Tenure',\n",
        "'V9': 'Dealer codes from where customer has purchased the Two wheeler',\n",
        "'V10': 'Product code of Two wheeler', \n",
        "'V11': 'No of advance EMI paid',\n",
        "'V12': 'Rate of interest',\n",
        "'V13': 'Gender',\n",
        "'V14': 'Employment type',\n",
        "'V15': 'Resident type of customer',\n",
        "'V16': 'Date of birth',\n",
        "'V17': 'Customer age when loan was taken',\n",
        "'V18': 'No of loans',\n",
        "'V19': 'No of secured loans',\n",
        "'V20': 'No of unsecured loans',\n",
        "'V21': 'Max amount sanctioned in the live loans',\n",
        "'V22': 'No of new loans in last 3 months',\n",
        "'V23': 'Total sanctioned amount in the secured Loans which are live',\n",
        "'V24': 'Total sanctioned amount in the unsecured Loans which are live',\n",
        "'V25': 'Maximum amount sanctioned for any Two wheeler loan',\n",
        "'V26': 'Time since last Personal loan taken (in months)',\n",
        "'V27': 'Time since first consumer durables loan taken (in months)',\n",
        "'V28': 'No of times 30 days past due in last 6 months',\n",
        "'V29': 'No of times 60 days past due in last 6 months',\n",
        "'V30': 'No of times 90 days past due in last 3 months',\n",
        "'V31': 'Tier',\n",
        "'V32': 'Target variable'})\n",
        "loan_df.head()"
      ],
      "metadata": {
        "colab": {
          "base_uri": "https://localhost:8080/",
          "height": 583
        },
        "id": "9Md10aa0ffel",
        "outputId": "9cb65f4d-c680-40ff-a9a8-87860e1e9976"
      },
      "execution_count": 145,
      "outputs": [
        {
          "output_type": "execute_result",
          "data": {
            "text/plain": [
              "   Customer ID  Customer has bounced in first EMI  \\\n",
              "0            1                                  0   \n",
              "1            2                                  0   \n",
              "2            3                                  0   \n",
              "3            4                                  0   \n",
              "4            5                                  0   \n",
              "\n",
              "   No of times bounced 12 months  Maximum MOB  \\\n",
              "0                              0         24.0   \n",
              "1                              1         24.0   \n",
              "2                              0         26.0   \n",
              "3                              0         24.0   \n",
              "4                              0         27.0   \n",
              "\n",
              "   No of times bounced while repaying the loan     EMI  Loan Amount  Tenure  \\\n",
              "0                                          0.0  2432.0      46500.0    24.0   \n",
              "1                                          1.0  1495.0      28168.0    24.0   \n",
              "2                                          0.0  1707.0      38900.0    30.0   \n",
              "3                                          0.0  2128.0      42900.0    24.0   \n",
              "4                                          0.0  1824.0      40900.0    30.0   \n",
              "\n",
              "   Dealer codes from where customer has purchased the Two wheeler  \\\n",
              "0                                             1385.0                \n",
              "1                                             2496.0                \n",
              "2                                             1346.0                \n",
              "3                                             1375.0                \n",
              "4                                             4140.0                \n",
              "\n",
              "  Product code of Two wheeler  No of advance EMI paid  Rate of interest  \\\n",
              "0                          SC                     0.0             12.75   \n",
              "1                          MO                     0.0             13.65   \n",
              "2                          SC                     0.0             12.65   \n",
              "3                          SC                     2.0              9.50   \n",
              "4                          MC                     0.0             13.50   \n",
              "\n",
              "   Gender Employment type Resident type of customer Date of birth  \\\n",
              "0  FEMALE       HOUSEWIFE                     OWNED    30-05-1974   \n",
              "1    MALE            SELF                      RENT    01-09-1967   \n",
              "2    MALE            SELF                      RENT    04-05-1983   \n",
              "3  FEMALE             SAL                      RENT    10-12-1989   \n",
              "4    MALE             SAL                      RENT    24-09-1984   \n",
              "\n",
              "   Customer age when loan was taken  No of loans  No of secured loans  \\\n",
              "0                              40.0            1                    1   \n",
              "1                              47.0            1                    1   \n",
              "2                              31.0            9                    6   \n",
              "3                              24.0            1                    1   \n",
              "4                              30.0            1                    1   \n",
              "\n",
              "   No of unsecured loans  Max amount sanctioned in the live loans  \\\n",
              "0                      0                                      NaN   \n",
              "1                      0                                      NaN   \n",
              "2                      3                                  55000.0   \n",
              "3                      0                                      NaN   \n",
              "4                      0                                      NaN   \n",
              "\n",
              "   No of new loans in last 3 months  \\\n",
              "0                                 0   \n",
              "1                                 0   \n",
              "2                                 0   \n",
              "3                                 0   \n",
              "4                                 0   \n",
              "\n",
              "   Total sanctioned amount in the secured Loans which are live  \\\n",
              "0                                                NaN             \n",
              "1                                                NaN             \n",
              "2                                                NaN             \n",
              "3                                                NaN             \n",
              "4                                                NaN             \n",
              "\n",
              "   Total sanctioned amount in the unsecured Loans which are live  \\\n",
              "0                                                NaN               \n",
              "1                                                NaN               \n",
              "2                                           105000.0               \n",
              "3                                                NaN               \n",
              "4                                                NaN               \n",
              "\n",
              "   Maximum amount sanctioned for any Two wheeler loan  \\\n",
              "0                                            46500.0    \n",
              "1                                            28168.0    \n",
              "2                                            38900.0    \n",
              "3                                            42900.0    \n",
              "4                                            40900.0    \n",
              "\n",
              "   Time since last Personal loan taken (in months)  \\\n",
              "0                                              NaN   \n",
              "1                                              NaN   \n",
              "2                                             34.0   \n",
              "3                                              NaN   \n",
              "4                                              NaN   \n",
              "\n",
              "   Time since first consumer durables loan taken (in months)  \\\n",
              "0                                                NaN           \n",
              "1                                                NaN           \n",
              "2                                               31.0           \n",
              "3                                                NaN           \n",
              "4                                                NaN           \n",
              "\n",
              "   No of times 30 days past due in last 6 months  \\\n",
              "0                                              0   \n",
              "1                                              0   \n",
              "2                                             31   \n",
              "3                                              0   \n",
              "4                                              0   \n",
              "\n",
              "   No of times 60 days past due in last 6 months  \\\n",
              "0                                              0   \n",
              "1                                              0   \n",
              "2                                             31   \n",
              "3                                              0   \n",
              "4                                              0   \n",
              "\n",
              "   No of times 90 days past due in last 3 months    Tier  Target variable  \n",
              "0                                              0  TIER 1                0  \n",
              "1                                              0  TIER 1                0  \n",
              "2                                             16  TIER 1                0  \n",
              "3                                              0  TIER 1                0  \n",
              "4                                              0  TIER 1                0  "
            ],
            "text/html": [
              "\n",
              "  <div id=\"df-029e6a2e-ecb9-4e5c-935f-4368452fd6d6\">\n",
              "    <div class=\"colab-df-container\">\n",
              "      <div>\n",
              "<style scoped>\n",
              "    .dataframe tbody tr th:only-of-type {\n",
              "        vertical-align: middle;\n",
              "    }\n",
              "\n",
              "    .dataframe tbody tr th {\n",
              "        vertical-align: top;\n",
              "    }\n",
              "\n",
              "    .dataframe thead th {\n",
              "        text-align: right;\n",
              "    }\n",
              "</style>\n",
              "<table border=\"1\" class=\"dataframe\">\n",
              "  <thead>\n",
              "    <tr style=\"text-align: right;\">\n",
              "      <th></th>\n",
              "      <th>Customer ID</th>\n",
              "      <th>Customer has bounced in first EMI</th>\n",
              "      <th>No of times bounced 12 months</th>\n",
              "      <th>Maximum MOB</th>\n",
              "      <th>No of times bounced while repaying the loan</th>\n",
              "      <th>EMI</th>\n",
              "      <th>Loan Amount</th>\n",
              "      <th>Tenure</th>\n",
              "      <th>Dealer codes from where customer has purchased the Two wheeler</th>\n",
              "      <th>Product code of Two wheeler</th>\n",
              "      <th>No of advance EMI paid</th>\n",
              "      <th>Rate of interest</th>\n",
              "      <th>Gender</th>\n",
              "      <th>Employment type</th>\n",
              "      <th>Resident type of customer</th>\n",
              "      <th>Date of birth</th>\n",
              "      <th>Customer age when loan was taken</th>\n",
              "      <th>No of loans</th>\n",
              "      <th>No of secured loans</th>\n",
              "      <th>No of unsecured loans</th>\n",
              "      <th>Max amount sanctioned in the live loans</th>\n",
              "      <th>No of new loans in last 3 months</th>\n",
              "      <th>Total sanctioned amount in the secured Loans which are live</th>\n",
              "      <th>Total sanctioned amount in the unsecured Loans which are live</th>\n",
              "      <th>Maximum amount sanctioned for any Two wheeler loan</th>\n",
              "      <th>Time since last Personal loan taken (in months)</th>\n",
              "      <th>Time since first consumer durables loan taken (in months)</th>\n",
              "      <th>No of times 30 days past due in last 6 months</th>\n",
              "      <th>No of times 60 days past due in last 6 months</th>\n",
              "      <th>No of times 90 days past due in last 3 months</th>\n",
              "      <th>Tier</th>\n",
              "      <th>Target variable</th>\n",
              "    </tr>\n",
              "  </thead>\n",
              "  <tbody>\n",
              "    <tr>\n",
              "      <th>0</th>\n",
              "      <td>1</td>\n",
              "      <td>0</td>\n",
              "      <td>0</td>\n",
              "      <td>24.0</td>\n",
              "      <td>0.0</td>\n",
              "      <td>2432.0</td>\n",
              "      <td>46500.0</td>\n",
              "      <td>24.0</td>\n",
              "      <td>1385.0</td>\n",
              "      <td>SC</td>\n",
              "      <td>0.0</td>\n",
              "      <td>12.75</td>\n",
              "      <td>FEMALE</td>\n",
              "      <td>HOUSEWIFE</td>\n",
              "      <td>OWNED</td>\n",
              "      <td>30-05-1974</td>\n",
              "      <td>40.0</td>\n",
              "      <td>1</td>\n",
              "      <td>1</td>\n",
              "      <td>0</td>\n",
              "      <td>NaN</td>\n",
              "      <td>0</td>\n",
              "      <td>NaN</td>\n",
              "      <td>NaN</td>\n",
              "      <td>46500.0</td>\n",
              "      <td>NaN</td>\n",
              "      <td>NaN</td>\n",
              "      <td>0</td>\n",
              "      <td>0</td>\n",
              "      <td>0</td>\n",
              "      <td>TIER 1</td>\n",
              "      <td>0</td>\n",
              "    </tr>\n",
              "    <tr>\n",
              "      <th>1</th>\n",
              "      <td>2</td>\n",
              "      <td>0</td>\n",
              "      <td>1</td>\n",
              "      <td>24.0</td>\n",
              "      <td>1.0</td>\n",
              "      <td>1495.0</td>\n",
              "      <td>28168.0</td>\n",
              "      <td>24.0</td>\n",
              "      <td>2496.0</td>\n",
              "      <td>MO</td>\n",
              "      <td>0.0</td>\n",
              "      <td>13.65</td>\n",
              "      <td>MALE</td>\n",
              "      <td>SELF</td>\n",
              "      <td>RENT</td>\n",
              "      <td>01-09-1967</td>\n",
              "      <td>47.0</td>\n",
              "      <td>1</td>\n",
              "      <td>1</td>\n",
              "      <td>0</td>\n",
              "      <td>NaN</td>\n",
              "      <td>0</td>\n",
              "      <td>NaN</td>\n",
              "      <td>NaN</td>\n",
              "      <td>28168.0</td>\n",
              "      <td>NaN</td>\n",
              "      <td>NaN</td>\n",
              "      <td>0</td>\n",
              "      <td>0</td>\n",
              "      <td>0</td>\n",
              "      <td>TIER 1</td>\n",
              "      <td>0</td>\n",
              "    </tr>\n",
              "    <tr>\n",
              "      <th>2</th>\n",
              "      <td>3</td>\n",
              "      <td>0</td>\n",
              "      <td>0</td>\n",
              "      <td>26.0</td>\n",
              "      <td>0.0</td>\n",
              "      <td>1707.0</td>\n",
              "      <td>38900.0</td>\n",
              "      <td>30.0</td>\n",
              "      <td>1346.0</td>\n",
              "      <td>SC</td>\n",
              "      <td>0.0</td>\n",
              "      <td>12.65</td>\n",
              "      <td>MALE</td>\n",
              "      <td>SELF</td>\n",
              "      <td>RENT</td>\n",
              "      <td>04-05-1983</td>\n",
              "      <td>31.0</td>\n",
              "      <td>9</td>\n",
              "      <td>6</td>\n",
              "      <td>3</td>\n",
              "      <td>55000.0</td>\n",
              "      <td>0</td>\n",
              "      <td>NaN</td>\n",
              "      <td>105000.0</td>\n",
              "      <td>38900.0</td>\n",
              "      <td>34.0</td>\n",
              "      <td>31.0</td>\n",
              "      <td>31</td>\n",
              "      <td>31</td>\n",
              "      <td>16</td>\n",
              "      <td>TIER 1</td>\n",
              "      <td>0</td>\n",
              "    </tr>\n",
              "    <tr>\n",
              "      <th>3</th>\n",
              "      <td>4</td>\n",
              "      <td>0</td>\n",
              "      <td>0</td>\n",
              "      <td>24.0</td>\n",
              "      <td>0.0</td>\n",
              "      <td>2128.0</td>\n",
              "      <td>42900.0</td>\n",
              "      <td>24.0</td>\n",
              "      <td>1375.0</td>\n",
              "      <td>SC</td>\n",
              "      <td>2.0</td>\n",
              "      <td>9.50</td>\n",
              "      <td>FEMALE</td>\n",
              "      <td>SAL</td>\n",
              "      <td>RENT</td>\n",
              "      <td>10-12-1989</td>\n",
              "      <td>24.0</td>\n",
              "      <td>1</td>\n",
              "      <td>1</td>\n",
              "      <td>0</td>\n",
              "      <td>NaN</td>\n",
              "      <td>0</td>\n",
              "      <td>NaN</td>\n",
              "      <td>NaN</td>\n",
              "      <td>42900.0</td>\n",
              "      <td>NaN</td>\n",
              "      <td>NaN</td>\n",
              "      <td>0</td>\n",
              "      <td>0</td>\n",
              "      <td>0</td>\n",
              "      <td>TIER 1</td>\n",
              "      <td>0</td>\n",
              "    </tr>\n",
              "    <tr>\n",
              "      <th>4</th>\n",
              "      <td>5</td>\n",
              "      <td>0</td>\n",
              "      <td>0</td>\n",
              "      <td>27.0</td>\n",
              "      <td>0.0</td>\n",
              "      <td>1824.0</td>\n",
              "      <td>40900.0</td>\n",
              "      <td>30.0</td>\n",
              "      <td>4140.0</td>\n",
              "      <td>MC</td>\n",
              "      <td>0.0</td>\n",
              "      <td>13.50</td>\n",
              "      <td>MALE</td>\n",
              "      <td>SAL</td>\n",
              "      <td>RENT</td>\n",
              "      <td>24-09-1984</td>\n",
              "      <td>30.0</td>\n",
              "      <td>1</td>\n",
              "      <td>1</td>\n",
              "      <td>0</td>\n",
              "      <td>NaN</td>\n",
              "      <td>0</td>\n",
              "      <td>NaN</td>\n",
              "      <td>NaN</td>\n",
              "      <td>40900.0</td>\n",
              "      <td>NaN</td>\n",
              "      <td>NaN</td>\n",
              "      <td>0</td>\n",
              "      <td>0</td>\n",
              "      <td>0</td>\n",
              "      <td>TIER 1</td>\n",
              "      <td>0</td>\n",
              "    </tr>\n",
              "  </tbody>\n",
              "</table>\n",
              "</div>\n",
              "      <button class=\"colab-df-convert\" onclick=\"convertToInteractive('df-029e6a2e-ecb9-4e5c-935f-4368452fd6d6')\"\n",
              "              title=\"Convert this dataframe to an interactive table.\"\n",
              "              style=\"display:none;\">\n",
              "        \n",
              "  <svg xmlns=\"http://www.w3.org/2000/svg\" height=\"24px\"viewBox=\"0 0 24 24\"\n",
              "       width=\"24px\">\n",
              "    <path d=\"M0 0h24v24H0V0z\" fill=\"none\"/>\n",
              "    <path d=\"M18.56 5.44l.94 2.06.94-2.06 2.06-.94-2.06-.94-.94-2.06-.94 2.06-2.06.94zm-11 1L8.5 8.5l.94-2.06 2.06-.94-2.06-.94L8.5 2.5l-.94 2.06-2.06.94zm10 10l.94 2.06.94-2.06 2.06-.94-2.06-.94-.94-2.06-.94 2.06-2.06.94z\"/><path d=\"M17.41 7.96l-1.37-1.37c-.4-.4-.92-.59-1.43-.59-.52 0-1.04.2-1.43.59L10.3 9.45l-7.72 7.72c-.78.78-.78 2.05 0 2.83L4 21.41c.39.39.9.59 1.41.59.51 0 1.02-.2 1.41-.59l7.78-7.78 2.81-2.81c.8-.78.8-2.07 0-2.86zM5.41 20L4 18.59l7.72-7.72 1.47 1.35L5.41 20z\"/>\n",
              "  </svg>\n",
              "      </button>\n",
              "      \n",
              "  <style>\n",
              "    .colab-df-container {\n",
              "      display:flex;\n",
              "      flex-wrap:wrap;\n",
              "      gap: 12px;\n",
              "    }\n",
              "\n",
              "    .colab-df-convert {\n",
              "      background-color: #E8F0FE;\n",
              "      border: none;\n",
              "      border-radius: 50%;\n",
              "      cursor: pointer;\n",
              "      display: none;\n",
              "      fill: #1967D2;\n",
              "      height: 32px;\n",
              "      padding: 0 0 0 0;\n",
              "      width: 32px;\n",
              "    }\n",
              "\n",
              "    .colab-df-convert:hover {\n",
              "      background-color: #E2EBFA;\n",
              "      box-shadow: 0px 1px 2px rgba(60, 64, 67, 0.3), 0px 1px 3px 1px rgba(60, 64, 67, 0.15);\n",
              "      fill: #174EA6;\n",
              "    }\n",
              "\n",
              "    [theme=dark] .colab-df-convert {\n",
              "      background-color: #3B4455;\n",
              "      fill: #D2E3FC;\n",
              "    }\n",
              "\n",
              "    [theme=dark] .colab-df-convert:hover {\n",
              "      background-color: #434B5C;\n",
              "      box-shadow: 0px 1px 3px 1px rgba(0, 0, 0, 0.15);\n",
              "      filter: drop-shadow(0px 1px 2px rgba(0, 0, 0, 0.3));\n",
              "      fill: #FFFFFF;\n",
              "    }\n",
              "  </style>\n",
              "\n",
              "      <script>\n",
              "        const buttonEl =\n",
              "          document.querySelector('#df-029e6a2e-ecb9-4e5c-935f-4368452fd6d6 button.colab-df-convert');\n",
              "        buttonEl.style.display =\n",
              "          google.colab.kernel.accessAllowed ? 'block' : 'none';\n",
              "\n",
              "        async function convertToInteractive(key) {\n",
              "          const element = document.querySelector('#df-029e6a2e-ecb9-4e5c-935f-4368452fd6d6');\n",
              "          const dataTable =\n",
              "            await google.colab.kernel.invokeFunction('convertToInteractive',\n",
              "                                                     [key], {});\n",
              "          if (!dataTable) return;\n",
              "\n",
              "          const docLinkHtml = 'Like what you see? Visit the ' +\n",
              "            '<a target=\"_blank\" href=https://colab.research.google.com/notebooks/data_table.ipynb>data table notebook</a>'\n",
              "            + ' to learn more about interactive tables.';\n",
              "          element.innerHTML = '';\n",
              "          dataTable['output_type'] = 'display_data';\n",
              "          await google.colab.output.renderOutput(dataTable, element);\n",
              "          const docLink = document.createElement('div');\n",
              "          docLink.innerHTML = docLinkHtml;\n",
              "          element.appendChild(docLink);\n",
              "        }\n",
              "      </script>\n",
              "    </div>\n",
              "  </div>\n",
              "  "
            ]
          },
          "metadata": {},
          "execution_count": 145
        }
      ]
    },
    {
      "cell_type": "code",
      "source": [
        "loan_df.info()"
      ],
      "metadata": {
        "colab": {
          "base_uri": "https://localhost:8080/"
        },
        "id": "9YwDDuu2fmdZ",
        "outputId": "206b8e9b-2928-4785-9a4c-58d9c428bffe"
      },
      "execution_count": 146,
      "outputs": [
        {
          "output_type": "stream",
          "name": "stdout",
          "text": [
            "<class 'pandas.core.frame.DataFrame'>\n",
            "RangeIndex: 119528 entries, 0 to 119527\n",
            "Data columns (total 32 columns):\n",
            " #   Column                                                          Non-Null Count   Dtype  \n",
            "---  ------                                                          --------------   -----  \n",
            " 0   Customer ID                                                     119528 non-null  int64  \n",
            " 1   Customer has bounced in first EMI                               119528 non-null  int64  \n",
            " 2   No of times bounced 12 months                                   119528 non-null  int64  \n",
            " 3   Maximum MOB                                                     85048 non-null   float64\n",
            " 4   No of times bounced while repaying the loan                     85048 non-null   float64\n",
            " 5   EMI                                                             85048 non-null   float64\n",
            " 6   Loan Amount                                                     85048 non-null   float64\n",
            " 7   Tenure                                                          85048 non-null   float64\n",
            " 8   Dealer codes from where customer has purchased the Two wheeler  85048 non-null   float64\n",
            " 9   Product code of Two wheeler                                     85048 non-null   object \n",
            " 10  No of advance EMI paid                                          85048 non-null   float64\n",
            " 11  Rate of interest                                                85048 non-null   float64\n",
            " 12  Gender                                                          85048 non-null   object \n",
            " 13  Employment type                                                 85048 non-null   object \n",
            " 14  Resident type of customer                                       84131 non-null   object \n",
            " 15  Date of birth                                                   85048 non-null   object \n",
            " 16  Customer age when loan was taken                                85048 non-null   float64\n",
            " 17  No of loans                                                     119528 non-null  int64  \n",
            " 18  No of secured loans                                             119528 non-null  int64  \n",
            " 19  No of unsecured loans                                           119528 non-null  int64  \n",
            " 20  Max amount sanctioned in the live loans                         36626 non-null   float64\n",
            " 21  No of new loans in last 3 months                                119528 non-null  int64  \n",
            " 22  Total sanctioned amount in the secured Loans which are live     19281 non-null   float64\n",
            " 23  Total sanctioned amount in the unsecured Loans which are live   19028 non-null   float64\n",
            " 24  Maximum amount sanctioned for any Two wheeler loan              104467 non-null  float64\n",
            " 25  Time since last Personal loan taken (in months)                 13431 non-null   float64\n",
            " 26  Time since first consumer durables loan taken (in months)       20433 non-null   float64\n",
            " 27  No of times 30 days past due in last 6 months                   119528 non-null  int64  \n",
            " 28  No of times 60 days past due in last 6 months                   119528 non-null  int64  \n",
            " 29  No of times 90 days past due in last 3 months                   119528 non-null  int64  \n",
            " 30  Tier                                                            119528 non-null  object \n",
            " 31  Target variable                                                 119528 non-null  int64  \n",
            "dtypes: float64(15), int64(11), object(6)\n",
            "memory usage: 29.2+ MB\n"
          ]
        }
      ]
    },
    {
      "cell_type": "code",
      "source": [
        "# msno.matrix(loan_df)"
      ],
      "metadata": {
        "id": "uK0vQr_efxKG"
      },
      "execution_count": 147,
      "outputs": []
    },
    {
      "cell_type": "code",
      "source": [
        "total_missing=loan_df.isnull().sum().sort_values(ascending=False)\n",
        "percent=loan_df.isnull().sum().sort_values(ascending=False)/loan_df.isnull().count().sort_values(ascending=False)\n",
        "missing_df=pd.concat([total_missing,percent],axis=1,keys=['total_missing','percentage_missing'],sort=False)\n",
        "# missing_df.index.name='variable'# set the index name to variable \n",
        "missing_df=missing_df[total_missing>0] # only retain those with missing values\n",
        "missing_df['percentage_missing']=missing_df['percentage_missing'].map(lambda x:x*100) # convert to percentage \n",
        "missing_df"
      ],
      "metadata": {
        "colab": {
          "base_uri": "https://localhost:8080/",
          "height": 677
        },
        "id": "wq0ffc7RgEcx",
        "outputId": "cbe7efe2-c595-419c-bf31-7b8c930e4ffa"
      },
      "execution_count": 148,
      "outputs": [
        {
          "output_type": "execute_result",
          "data": {
            "text/plain": [
              "                                                    total_missing  \\\n",
              "Time since last Personal loan taken (in months)            106097   \n",
              "Total sanctioned amount in the unsecured Loans ...         100500   \n",
              "Total sanctioned amount in the secured Loans wh...         100247   \n",
              "Time since first consumer durables loan taken (...          99095   \n",
              "Max amount sanctioned in the live loans                     82902   \n",
              "Resident type of customer                                   35397   \n",
              "No of advance EMI paid                                      34480   \n",
              "Date of birth                                               34480   \n",
              "Employment type                                             34480   \n",
              "Rate of interest                                            34480   \n",
              "Customer age when loan was taken                            34480   \n",
              "Product code of Two wheeler                                 34480   \n",
              "Dealer codes from where customer has purchased ...          34480   \n",
              "Tenure                                                      34480   \n",
              "Loan Amount                                                 34480   \n",
              "EMI                                                         34480   \n",
              "No of times bounced while repaying the loan                 34480   \n",
              "Maximum MOB                                                 34480   \n",
              "Gender                                                      34480   \n",
              "Maximum amount sanctioned for any Two wheeler loan          15061   \n",
              "\n",
              "                                                    percentage_missing  \n",
              "Time since last Personal loan taken (in months)              88.763302  \n",
              "Total sanctioned amount in the unsecured Loans ...           84.080717  \n",
              "Total sanctioned amount in the secured Loans wh...           83.869052  \n",
              "Time since first consumer durables loan taken (...           82.905261  \n",
              "Max amount sanctioned in the live loans                      69.357807  \n",
              "Resident type of customer                                    29.613982  \n",
              "No of advance EMI paid                                       28.846797  \n",
              "Date of birth                                                28.846797  \n",
              "Employment type                                              28.846797  \n",
              "Rate of interest                                             28.846797  \n",
              "Customer age when loan was taken                             28.846797  \n",
              "Product code of Two wheeler                                  28.846797  \n",
              "Dealer codes from where customer has purchased ...           28.846797  \n",
              "Tenure                                                       28.846797  \n",
              "Loan Amount                                                  28.846797  \n",
              "EMI                                                          28.846797  \n",
              "No of times bounced while repaying the loan                  28.846797  \n",
              "Maximum MOB                                                  28.846797  \n",
              "Gender                                                       28.846797  \n",
              "Maximum amount sanctioned for any Two wheeler loan           12.600395  "
            ],
            "text/html": [
              "\n",
              "  <div id=\"df-01a6a8ed-3adf-466a-b35c-3cd52123987d\">\n",
              "    <div class=\"colab-df-container\">\n",
              "      <div>\n",
              "<style scoped>\n",
              "    .dataframe tbody tr th:only-of-type {\n",
              "        vertical-align: middle;\n",
              "    }\n",
              "\n",
              "    .dataframe tbody tr th {\n",
              "        vertical-align: top;\n",
              "    }\n",
              "\n",
              "    .dataframe thead th {\n",
              "        text-align: right;\n",
              "    }\n",
              "</style>\n",
              "<table border=\"1\" class=\"dataframe\">\n",
              "  <thead>\n",
              "    <tr style=\"text-align: right;\">\n",
              "      <th></th>\n",
              "      <th>total_missing</th>\n",
              "      <th>percentage_missing</th>\n",
              "    </tr>\n",
              "  </thead>\n",
              "  <tbody>\n",
              "    <tr>\n",
              "      <th>Time since last Personal loan taken (in months)</th>\n",
              "      <td>106097</td>\n",
              "      <td>88.763302</td>\n",
              "    </tr>\n",
              "    <tr>\n",
              "      <th>Total sanctioned amount in the unsecured Loans which are live</th>\n",
              "      <td>100500</td>\n",
              "      <td>84.080717</td>\n",
              "    </tr>\n",
              "    <tr>\n",
              "      <th>Total sanctioned amount in the secured Loans which are live</th>\n",
              "      <td>100247</td>\n",
              "      <td>83.869052</td>\n",
              "    </tr>\n",
              "    <tr>\n",
              "      <th>Time since first consumer durables loan taken (in months)</th>\n",
              "      <td>99095</td>\n",
              "      <td>82.905261</td>\n",
              "    </tr>\n",
              "    <tr>\n",
              "      <th>Max amount sanctioned in the live loans</th>\n",
              "      <td>82902</td>\n",
              "      <td>69.357807</td>\n",
              "    </tr>\n",
              "    <tr>\n",
              "      <th>Resident type of customer</th>\n",
              "      <td>35397</td>\n",
              "      <td>29.613982</td>\n",
              "    </tr>\n",
              "    <tr>\n",
              "      <th>No of advance EMI paid</th>\n",
              "      <td>34480</td>\n",
              "      <td>28.846797</td>\n",
              "    </tr>\n",
              "    <tr>\n",
              "      <th>Date of birth</th>\n",
              "      <td>34480</td>\n",
              "      <td>28.846797</td>\n",
              "    </tr>\n",
              "    <tr>\n",
              "      <th>Employment type</th>\n",
              "      <td>34480</td>\n",
              "      <td>28.846797</td>\n",
              "    </tr>\n",
              "    <tr>\n",
              "      <th>Rate of interest</th>\n",
              "      <td>34480</td>\n",
              "      <td>28.846797</td>\n",
              "    </tr>\n",
              "    <tr>\n",
              "      <th>Customer age when loan was taken</th>\n",
              "      <td>34480</td>\n",
              "      <td>28.846797</td>\n",
              "    </tr>\n",
              "    <tr>\n",
              "      <th>Product code of Two wheeler</th>\n",
              "      <td>34480</td>\n",
              "      <td>28.846797</td>\n",
              "    </tr>\n",
              "    <tr>\n",
              "      <th>Dealer codes from where customer has purchased the Two wheeler</th>\n",
              "      <td>34480</td>\n",
              "      <td>28.846797</td>\n",
              "    </tr>\n",
              "    <tr>\n",
              "      <th>Tenure</th>\n",
              "      <td>34480</td>\n",
              "      <td>28.846797</td>\n",
              "    </tr>\n",
              "    <tr>\n",
              "      <th>Loan Amount</th>\n",
              "      <td>34480</td>\n",
              "      <td>28.846797</td>\n",
              "    </tr>\n",
              "    <tr>\n",
              "      <th>EMI</th>\n",
              "      <td>34480</td>\n",
              "      <td>28.846797</td>\n",
              "    </tr>\n",
              "    <tr>\n",
              "      <th>No of times bounced while repaying the loan</th>\n",
              "      <td>34480</td>\n",
              "      <td>28.846797</td>\n",
              "    </tr>\n",
              "    <tr>\n",
              "      <th>Maximum MOB</th>\n",
              "      <td>34480</td>\n",
              "      <td>28.846797</td>\n",
              "    </tr>\n",
              "    <tr>\n",
              "      <th>Gender</th>\n",
              "      <td>34480</td>\n",
              "      <td>28.846797</td>\n",
              "    </tr>\n",
              "    <tr>\n",
              "      <th>Maximum amount sanctioned for any Two wheeler loan</th>\n",
              "      <td>15061</td>\n",
              "      <td>12.600395</td>\n",
              "    </tr>\n",
              "  </tbody>\n",
              "</table>\n",
              "</div>\n",
              "      <button class=\"colab-df-convert\" onclick=\"convertToInteractive('df-01a6a8ed-3adf-466a-b35c-3cd52123987d')\"\n",
              "              title=\"Convert this dataframe to an interactive table.\"\n",
              "              style=\"display:none;\">\n",
              "        \n",
              "  <svg xmlns=\"http://www.w3.org/2000/svg\" height=\"24px\"viewBox=\"0 0 24 24\"\n",
              "       width=\"24px\">\n",
              "    <path d=\"M0 0h24v24H0V0z\" fill=\"none\"/>\n",
              "    <path d=\"M18.56 5.44l.94 2.06.94-2.06 2.06-.94-2.06-.94-.94-2.06-.94 2.06-2.06.94zm-11 1L8.5 8.5l.94-2.06 2.06-.94-2.06-.94L8.5 2.5l-.94 2.06-2.06.94zm10 10l.94 2.06.94-2.06 2.06-.94-2.06-.94-.94-2.06-.94 2.06-2.06.94z\"/><path d=\"M17.41 7.96l-1.37-1.37c-.4-.4-.92-.59-1.43-.59-.52 0-1.04.2-1.43.59L10.3 9.45l-7.72 7.72c-.78.78-.78 2.05 0 2.83L4 21.41c.39.39.9.59 1.41.59.51 0 1.02-.2 1.41-.59l7.78-7.78 2.81-2.81c.8-.78.8-2.07 0-2.86zM5.41 20L4 18.59l7.72-7.72 1.47 1.35L5.41 20z\"/>\n",
              "  </svg>\n",
              "      </button>\n",
              "      \n",
              "  <style>\n",
              "    .colab-df-container {\n",
              "      display:flex;\n",
              "      flex-wrap:wrap;\n",
              "      gap: 12px;\n",
              "    }\n",
              "\n",
              "    .colab-df-convert {\n",
              "      background-color: #E8F0FE;\n",
              "      border: none;\n",
              "      border-radius: 50%;\n",
              "      cursor: pointer;\n",
              "      display: none;\n",
              "      fill: #1967D2;\n",
              "      height: 32px;\n",
              "      padding: 0 0 0 0;\n",
              "      width: 32px;\n",
              "    }\n",
              "\n",
              "    .colab-df-convert:hover {\n",
              "      background-color: #E2EBFA;\n",
              "      box-shadow: 0px 1px 2px rgba(60, 64, 67, 0.3), 0px 1px 3px 1px rgba(60, 64, 67, 0.15);\n",
              "      fill: #174EA6;\n",
              "    }\n",
              "\n",
              "    [theme=dark] .colab-df-convert {\n",
              "      background-color: #3B4455;\n",
              "      fill: #D2E3FC;\n",
              "    }\n",
              "\n",
              "    [theme=dark] .colab-df-convert:hover {\n",
              "      background-color: #434B5C;\n",
              "      box-shadow: 0px 1px 3px 1px rgba(0, 0, 0, 0.15);\n",
              "      filter: drop-shadow(0px 1px 2px rgba(0, 0, 0, 0.3));\n",
              "      fill: #FFFFFF;\n",
              "    }\n",
              "  </style>\n",
              "\n",
              "      <script>\n",
              "        const buttonEl =\n",
              "          document.querySelector('#df-01a6a8ed-3adf-466a-b35c-3cd52123987d button.colab-df-convert');\n",
              "        buttonEl.style.display =\n",
              "          google.colab.kernel.accessAllowed ? 'block' : 'none';\n",
              "\n",
              "        async function convertToInteractive(key) {\n",
              "          const element = document.querySelector('#df-01a6a8ed-3adf-466a-b35c-3cd52123987d');\n",
              "          const dataTable =\n",
              "            await google.colab.kernel.invokeFunction('convertToInteractive',\n",
              "                                                     [key], {});\n",
              "          if (!dataTable) return;\n",
              "\n",
              "          const docLinkHtml = 'Like what you see? Visit the ' +\n",
              "            '<a target=\"_blank\" href=https://colab.research.google.com/notebooks/data_table.ipynb>data table notebook</a>'\n",
              "            + ' to learn more about interactive tables.';\n",
              "          element.innerHTML = '';\n",
              "          dataTable['output_type'] = 'display_data';\n",
              "          await google.colab.output.renderOutput(dataTable, element);\n",
              "          const docLink = document.createElement('div');\n",
              "          docLink.innerHTML = docLinkHtml;\n",
              "          element.appendChild(docLink);\n",
              "        }\n",
              "      </script>\n",
              "    </div>\n",
              "  </div>\n",
              "  "
            ]
          },
          "metadata": {},
          "execution_count": 148
        }
      ]
    },
    {
      "cell_type": "code",
      "source": [
        "for column, row in missing_df.iterrows():\n",
        "  if row['percentage_missing'] > 50:\n",
        "      loan_df.drop(column, axis=1, inplace=True) "
      ],
      "metadata": {
        "id": "pXfK1i-ljZ5C"
      },
      "execution_count": 149,
      "outputs": []
    },
    {
      "cell_type": "code",
      "source": [
        "loan_missing = loan_df.isnull().sum().sort_values(ascending=False)\n",
        "loan_miss = loan_missing[loan_missing > 0]\n",
        "loan_miss"
      ],
      "metadata": {
        "colab": {
          "base_uri": "https://localhost:8080/"
        },
        "id": "PtdyczRujfTh",
        "outputId": "54477120-2917-4e75-c338-1565ea2b628b"
      },
      "execution_count": 150,
      "outputs": [
        {
          "output_type": "execute_result",
          "data": {
            "text/plain": [
              "Resident type of customer                                         35397\n",
              "Employment type                                                   34480\n",
              "Dealer codes from where customer has purchased the Two wheeler    34480\n",
              "Customer age when loan was taken                                  34480\n",
              "Date of birth                                                     34480\n",
              "Gender                                                            34480\n",
              "Rate of interest                                                  34480\n",
              "Product code of Two wheeler                                       34480\n",
              "No of advance EMI paid                                            34480\n",
              "Tenure                                                            34480\n",
              "Loan Amount                                                       34480\n",
              "EMI                                                               34480\n",
              "No of times bounced while repaying the loan                       34480\n",
              "Maximum MOB                                                       34480\n",
              "Maximum amount sanctioned for any Two wheeler loan                15061\n",
              "dtype: int64"
            ]
          },
          "metadata": {},
          "execution_count": 150
        }
      ]
    },
    {
      "cell_type": "code",
      "source": [
        "loan_df.dropna(axis=0,how='any',subset=['Loan Amount'],inplace=True)"
      ],
      "metadata": {
        "id": "y4tAqR-6j2uv"
      },
      "execution_count": 151,
      "outputs": []
    },
    {
      "cell_type": "code",
      "source": [
        "# msno.matrix(loan_df)"
      ],
      "metadata": {
        "id": "z96DdHPIkSNK"
      },
      "execution_count": 152,
      "outputs": []
    },
    {
      "cell_type": "code",
      "source": [
        "loan_df['Maximum amount sanctioned for any Two wheeler loan'].fillna(0, inplace=True)\n",
        "loan_df['Resident type of customer'].fillna('Unknown', inplace=True)"
      ],
      "metadata": {
        "id": "0efyFD6LkmAz"
      },
      "execution_count": 153,
      "outputs": []
    },
    {
      "cell_type": "markdown",
      "source": [
        "Some visualizations to understand what the context a little bit more.\n"
      ],
      "metadata": {
        "id": "_ETEom68d61v"
      }
    },
    {
      "cell_type": "code",
      "source": [
        "msno.matrix(loan_df)"
      ],
      "metadata": {
        "colab": {
          "base_uri": "https://localhost:8080/",
          "height": 651
        },
        "id": "AxmaHrNEkyfC",
        "outputId": "9329c402-ab04-4cf6-855d-c59bded0d68d"
      },
      "execution_count": 154,
      "outputs": [
        {
          "output_type": "execute_result",
          "data": {
            "text/plain": [
              "<Axes: >"
            ]
          },
          "metadata": {},
          "execution_count": 154
        },
        {
          "output_type": "display_data",
          "data": {
            "text/plain": [
              "<Figure size 2500x1000 with 2 Axes>"
            ],
            "image/png": "[encoded data removed]"
          },
          "metadata": {}
        }
      ]
    },
    {
      "cell_type": "markdown",
      "source": [
        "Dealing with missing values."
      ],
      "metadata": {
        "id": "lwOQdyB0ePGS"
      }
    },
    {
      "cell_type": "code",
      "source": [
        "sns.histplot(data=loan_df, x='Loan Amount', hue='Gender')\n",
        "plt.title('Loan Amount vs. Gender')\n",
        "plt.figure(figsize=(10, 8))\n",
        "plt.show()"
      ],
      "metadata": {
        "colab": {
          "base_uri": "https://localhost:8080/",
          "height": 489
        },
        "id": "ry3FcO6klwAw",
        "outputId": "bbc29264-0867-46af-8d8c-c38065c45361"
      },
      "execution_count": 155,
      "outputs": [
        {
          "output_type": "display_data",
          "data": {
            "text/plain": [
              "<Figure size 640x480 with 1 Axes>"
            ],
            "image/png": "[encoded data removed]"
          },
          "metadata": {}
        },
        {
          "output_type": "display_data",
          "data": {
            "text/plain": [
              "<Figure size 1000x800 with 0 Axes>"
            ]
          },
          "metadata": {}
        }
      ]
    },
    {
      "cell_type": "code",
      "source": [
        "colors = ['#' + ''.join(random.choices('0123456789ABCDEF', k=6)) for _ in range(5)]\n",
        "sns.histplot(data=loan_df, x='Loan Amount', hue='Employment type', palette=colors)\n",
        "plt.title('Loan Amount vs. Employment Type')\n",
        "plt.figure(figsize=(10, 8))\n",
        "plt.show()"
      ],
      "metadata": {
        "colab": {
          "base_uri": "https://localhost:8080/",
          "height": 489
        },
        "id": "nDK8PXbSmaN-",
        "outputId": "e6cf0706-cb73-407b-f71a-bae1be422c53"
      },
      "execution_count": 156,
      "outputs": [
        {
          "output_type": "display_data",
          "data": {
            "text/plain": [
              "<Figure size 640x480 with 1 Axes>"
            ],
            "image/png": "[encoded data removed]"
          },
          "metadata": {}
        },
        {
          "output_type": "display_data",
          "data": {
            "text/plain": [
              "<Figure size 1000x800 with 0 Axes>"
            ]
          },
          "metadata": {}
        }
      ]
    },
    {
      "cell_type": "code",
      "source": [
        "sns.barplot(data=loan_df, x='Tier', y='Loan Amount')#violin is also a good option\n",
        "plt.title('Tier vs. Loan Amount')\n",
        "plt.figure(figsize=(10, 8)) \n",
        "plt.show()"
      ],
      "metadata": {
        "colab": {
          "base_uri": "https://localhost:8080/",
          "height": 489
        },
        "id": "VmYuqQy9nEYD",
        "outputId": "0b3d244e-f143-45c5-f6e3-c23e398dc9f6"
      },
      "execution_count": 157,
      "outputs": [
        {
          "output_type": "display_data",
          "data": {
            "text/plain": [
              "<Figure size 640x480 with 1 Axes>"
            ],
            "image/png": "[encoded data removed]"
          },
          "metadata": {}
        },
        {
          "output_type": "display_data",
          "data": {
            "text/plain": [
              "<Figure size 1000x800 with 0 Axes>"
            ]
          },
          "metadata": {}
        }
      ]
    },
    {
      "cell_type": "code",
      "source": [
        "loan_df['Customer age when loan was taken'].plot(kind='hist', color='b', edgecolor='black')\n",
        "plt.xlabel(\"Age\")\n",
        "plt.ylabel(\"Count of People\")\n",
        "plt.title(\"Age of Customer when the loan was approved\")\n",
        "plt.show()"
      ],
      "metadata": {
        "colab": {
          "base_uri": "https://localhost:8080/",
          "height": 472
        },
        "id": "638mfh_lnQqp",
        "outputId": "7bfb85b5-4ec8-4dd8-d586-f4733a1282f5"
      },
      "execution_count": 158,
      "outputs": [
        {
          "output_type": "display_data",
          "data": {
            "text/plain": [
              "<Figure size 640x480 with 1 Axes>"
            ],
            "image/png": "[encoded data removed]"
          },
          "metadata": {}
        }
      ]
    },
    {
      "cell_type": "code",
      "source": [
        "# import pandas as pd\n",
        "\n",
        "# # Assuming your DataFrame is named loan_df\n",
        "\n",
        "# # Filter the data for defaulters (Target variable = 0)\n",
        "# defaulters = loan_df[loan_df['Target variable'] == 0]\n",
        "\n",
        "# # Group the data by 'Customer age when loan was taken' and calculate the default rate\n",
        "# default_rates = defaulters.groupby('Customer age when loan was taken').size() / loan_df.groupby('Customer age when loan was taken').size()\n",
        "\n",
        "# # Find the age group with the highest default rate\n",
        "# highest_default_age_group = default_rates.idxmax()\n",
        "\n",
        "# print(\"Age group with the highest defaults:\", highest_default_age_group)\n"
      ],
      "metadata": {
        "id": "wtgO5MdCpxlR"
      },
      "execution_count": 159,
      "outputs": []
    },
    {
      "cell_type": "code",
      "source": [
        "loan_df = loan_df.drop('Date of birth', axis=1)\n",
        "loan_df = loan_df.drop('Customer ID', axis=1)"
      ],
      "metadata": {
        "id": "VP1f3PGXq0j6"
      },
      "execution_count": 160,
      "outputs": []
    },
    {
      "cell_type": "markdown",
      "source": [
        "Downsample the data. Split the target variable into defaulters "
      ],
      "metadata": {
        "id": "t3k8tCjkda0h"
      }
    },
    {
      "cell_type": "code",
      "source": [
        "loan_df['Target variable'].value_counts()"
      ],
      "metadata": {
        "colab": {
          "base_uri": "https://localhost:8080/"
        },
        "id": "mqUhMnN7lCCR",
        "outputId": "f424ef84-8946-4cd0-d381-f1afed52c647"
      },
      "execution_count": 161,
      "outputs": [
        {
          "output_type": "execute_result",
          "data": {
            "text/plain": [
              "0    83194\n",
              "1     1854\n",
              "Name: Target variable, dtype: int64"
            ]
          },
          "metadata": {},
          "execution_count": 161
        }
      ]
    },
    {
      "cell_type": "code",
      "source": [
        "defaulters = loan_df[loan_df['Target variable'] == 1]\n",
        "non_defaulters = loan_df[loan_df['Target variable'] == 0]"
      ],
      "metadata": {
        "id": "d7xSzvbvtkic"
      },
      "execution_count": 162,
      "outputs": []
    },
    {
      "cell_type": "code",
      "source": [
        "print(defaulters.shape)\n",
        "print(non_defaulters.shape)"
      ],
      "metadata": {
        "colab": {
          "base_uri": "https://localhost:8080/"
        },
        "id": "540Z45szwti7",
        "outputId": "8effd9ef-d010-44f5-a62b-e48286c554df"
      },
      "execution_count": 163,
      "outputs": [
        {
          "output_type": "stream",
          "name": "stdout",
          "text": [
            "(1854, 25)\n",
            "(83194, 25)\n"
          ]
        }
      ]
    },
    {
      "cell_type": "code",
      "source": [
        "defaulters['Gender'].describe()#check other columns too, AGE ETC"
      ],
      "metadata": {
        "colab": {
          "base_uri": "https://localhost:8080/"
        },
        "id": "AyrQT2wPyA3R",
        "outputId": "594bff75-9316-4593-b234-2b5a728167af"
      },
      "execution_count": 164,
      "outputs": [
        {
          "output_type": "execute_result",
          "data": {
            "text/plain": [
              "count     1854\n",
              "unique       2\n",
              "top       MALE\n",
              "freq      1669\n",
              "Name: Gender, dtype: object"
            ]
          },
          "metadata": {},
          "execution_count": 164
        }
      ]
    },
    {
      "cell_type": "code",
      "source": [
        "defaulters['Loan Amount'].describe()"
      ],
      "metadata": {
        "colab": {
          "base_uri": "https://localhost:8080/"
        },
        "id": "ajtx-D9qyplb",
        "outputId": "23922413-9327-4b27-9841-bf1979c6fe01"
      },
      "execution_count": 165,
      "outputs": [
        {
          "output_type": "execute_result",
          "data": {
            "text/plain": [
              "count     1854.000000\n",
              "mean     40616.281014\n",
              "std      10914.378742\n",
              "min      15900.000000\n",
              "25%      30900.000000\n",
              "50%      41250.000000\n",
              "75%      48900.000000\n",
              "max      81400.000000\n",
              "Name: Loan Amount, dtype: float64"
            ]
          },
          "metadata": {},
          "execution_count": 165
        }
      ]
    },
    {
      "cell_type": "code",
      "source": [
        "non_defaulters['Gender'].describe()"
      ],
      "metadata": {
        "colab": {
          "base_uri": "https://localhost:8080/"
        },
        "id": "6Bv4dJTZA_j_",
        "outputId": "ce84338b-bbcd-4acd-e0cb-bc5a3d75626c"
      },
      "execution_count": 166,
      "outputs": [
        {
          "output_type": "execute_result",
          "data": {
            "text/plain": [
              "count     83194\n",
              "unique        2\n",
              "top        MALE\n",
              "freq      71939\n",
              "Name: Gender, dtype: object"
            ]
          },
          "metadata": {},
          "execution_count": 166
        }
      ]
    },
    {
      "cell_type": "code",
      "source": [
        "non_defaulters['Loan Amount'].describe()"
      ],
      "metadata": {
        "colab": {
          "base_uri": "https://localhost:8080/"
        },
        "id": "ndN6KxgNCJgI",
        "outputId": "f2142a75-91b6-4c0b-bf61-77279fd22958"
      },
      "execution_count": 167,
      "outputs": [
        {
          "output_type": "execute_result",
          "data": {
            "text/plain": [
              "count    83194.000000\n",
              "mean     39309.596642\n",
              "std      11017.263308\n",
              "min      10000.000000\n",
              "25%      30000.000000\n",
              "50%      39625.000000\n",
              "75%      48000.000000\n",
              "max      96000.000000\n",
              "Name: Loan Amount, dtype: float64"
            ]
          },
          "metadata": {},
          "execution_count": 167
        }
      ]
    },
    {
      "cell_type": "code",
      "source": [
        "loan_df.groupby('Target variable').mean()"
      ],
      "metadata": {
        "colab": {
          "base_uri": "https://localhost:8080/",
          "height": 381
        },
        "id": "MwpzsYEvE3Ho",
        "outputId": "fc112595-eb36-47d1-bf27-bd4ea6b0b5b3"
      },
      "execution_count": 168,
      "outputs": [
        {
          "output_type": "stream",
          "name": "stderr",
          "text": [
            "<ipython-input-168-e276b3d4e1eb>:1: FutureWarning: The default value of numeric_only in DataFrameGroupBy.mean is deprecated. In a future version, numeric_only will default to False. Either specify numeric_only or select only columns which should be valid for the function.\n",
            "  loan_df.groupby('Target variable').mean()\n"
          ]
        },
        {
          "output_type": "execute_result",
          "data": {
            "text/plain": [
              "                 Customer has bounced in first EMI  \\\n",
              "Target variable                                      \n",
              "0                                         0.028512   \n",
              "1                                         0.042071   \n",
              "\n",
              "                 No of times bounced 12 months  Maximum MOB  \\\n",
              "Target variable                                               \n",
              "0                                     0.465683    17.205087   \n",
              "1                                     0.873786    17.758360   \n",
              "\n",
              "                 No of times bounced while repaying the loan          EMI  \\\n",
              "Target variable                                                             \n",
              "0                                                   0.679580  2325.572698   \n",
              "1                                                   1.196872  2331.471953   \n",
              "\n",
              "                  Loan Amount     Tenure  \\\n",
              "Target variable                            \n",
              "0                39309.596642  21.043849   \n",
              "1                40616.281014  21.786947   \n",
              "\n",
              "                 Dealer codes from where customer has purchased the Two wheeler  \\\n",
              "Target variable                                                                   \n",
              "0                                                      3510.901652                \n",
              "1                                                      3593.040453                \n",
              "\n",
              "                 No of advance EMI paid  Rate of interest  \\\n",
              "Target variable                                             \n",
              "0                              0.645083         11.700563   \n",
              "1                              0.592233         11.849186   \n",
              "\n",
              "                 Customer age when loan was taken  No of loans  \\\n",
              "Target variable                                                  \n",
              "0                                       37.064235     3.676924   \n",
              "1                                       34.284790     3.540453   \n",
              "\n",
              "                 No of secured loans  No of unsecured loans  \\\n",
              "Target variable                                               \n",
              "0                           2.271835               0.908046   \n",
              "1                           2.026969               1.134304   \n",
              "\n",
              "                 No of new loans in last 3 months  \\\n",
              "Target variable                                     \n",
              "0                                             0.0   \n",
              "1                                             0.0   \n",
              "\n",
              "                 Maximum amount sanctioned for any Two wheeler loan  \\\n",
              "Target variable                                                       \n",
              "0                                                     36157.093372    \n",
              "1                                                     37994.922869    \n",
              "\n",
              "                 No of times 30 days past due in last 6 months  \\\n",
              "Target variable                                                  \n",
              "0                                                     1.002632   \n",
              "1                                                     4.805825   \n",
              "\n",
              "                 No of times 60 days past due in last 6 months  \\\n",
              "Target variable                                                  \n",
              "0                                                     0.764334   \n",
              "1                                                     3.806904   \n",
              "\n",
              "                 No of times 90 days past due in last 3 months  \n",
              "Target variable                                                 \n",
              "0                                                     0.321261  \n",
              "1                                                     1.566882  "
            ],
            "text/html": [
              "\n",
              "  <div id=\"df-0dedf6fa-986b-4cdf-a78c-d9300712e24d\">\n",
              "    <div class=\"colab-df-container\">\n",
              "      <div>\n",
              "<style scoped>\n",
              "    .dataframe tbody tr th:only-of-type {\n",
              "        vertical-align: middle;\n",
              "    }\n",
              "\n",
              "    .dataframe tbody tr th {\n",
              "        vertical-align: top;\n",
              "    }\n",
              "\n",
              "    .dataframe thead th {\n",
              "        text-align: right;\n",
              "    }\n",
              "</style>\n",
              "<table border=\"1\" class=\"dataframe\">\n",
              "  <thead>\n",
              "    <tr style=\"text-align: right;\">\n",
              "      <th></th>\n",
              "      <th>Customer has bounced in first EMI</th>\n",
              "      <th>No of times bounced 12 months</th>\n",
              "      <th>Maximum MOB</th>\n",
              "      <th>No of times bounced while repaying the loan</th>\n",
              "      <th>EMI</th>\n",
              "      <th>Loan Amount</th>\n",
              "      <th>Tenure</th>\n",
              "      <th>Dealer codes from where customer has purchased the Two wheeler</th>\n",
              "      <th>No of advance EMI paid</th>\n",
              "      <th>Rate of interest</th>\n",
              "      <th>Customer age when loan was taken</th>\n",
              "      <th>No of loans</th>\n",
              "      <th>No of secured loans</th>\n",
              "      <th>No of unsecured loans</th>\n",
              "      <th>No of new loans in last 3 months</th>\n",
              "      <th>Maximum amount sanctioned for any Two wheeler loan</th>\n",
              "      <th>No of times 30 days past due in last 6 months</th>\n",
              "      <th>No of times 60 days past due in last 6 months</th>\n",
              "      <th>No of times 90 days past due in last 3 months</th>\n",
              "    </tr>\n",
              "    <tr>\n",
              "      <th>Target variable</th>\n",
              "      <th></th>\n",
              "      <th></th>\n",
              "      <th></th>\n",
              "      <th></th>\n",
              "      <th></th>\n",
              "      <th></th>\n",
              "      <th></th>\n",
              "      <th></th>\n",
              "      <th></th>\n",
              "      <th></th>\n",
              "      <th></th>\n",
              "      <th></th>\n",
              "      <th></th>\n",
              "      <th></th>\n",
              "      <th></th>\n",
              "      <th></th>\n",
              "      <th></th>\n",
              "      <th></th>\n",
              "      <th></th>\n",
              "    </tr>\n",
              "  </thead>\n",
              "  <tbody>\n",
              "    <tr>\n",
              "      <th>0</th>\n",
              "      <td>0.028512</td>\n",
              "      <td>0.465683</td>\n",
              "      <td>17.205087</td>\n",
              "      <td>0.679580</td>\n",
              "      <td>2325.572698</td>\n",
              "      <td>39309.596642</td>\n",
              "      <td>21.043849</td>\n",
              "      <td>3510.901652</td>\n",
              "      <td>0.645083</td>\n",
              "      <td>11.700563</td>\n",
              "      <td>37.064235</td>\n",
              "      <td>3.676924</td>\n",
              "      <td>2.271835</td>\n",
              "      <td>0.908046</td>\n",
              "      <td>0.0</td>\n",
              "      <td>36157.093372</td>\n",
              "      <td>1.002632</td>\n",
              "      <td>0.764334</td>\n",
              "      <td>0.321261</td>\n",
              "    </tr>\n",
              "    <tr>\n",
              "      <th>1</th>\n",
              "      <td>0.042071</td>\n",
              "      <td>0.873786</td>\n",
              "      <td>17.758360</td>\n",
              "      <td>1.196872</td>\n",
              "      <td>2331.471953</td>\n",
              "      <td>40616.281014</td>\n",
              "      <td>21.786947</td>\n",
              "      <td>3593.040453</td>\n",
              "      <td>0.592233</td>\n",
              "      <td>11.849186</td>\n",
              "      <td>34.284790</td>\n",
              "      <td>3.540453</td>\n",
              "      <td>2.026969</td>\n",
              "      <td>1.134304</td>\n",
              "      <td>0.0</td>\n",
              "      <td>37994.922869</td>\n",
              "      <td>4.805825</td>\n",
              "      <td>3.806904</td>\n",
              "      <td>1.566882</td>\n",
              "    </tr>\n",
              "  </tbody>\n",
              "</table>\n",
              "</div>\n",
              "      <button class=\"colab-df-convert\" onclick=\"convertToInteractive('df-0dedf6fa-986b-4cdf-a78c-d9300712e24d')\"\n",
              "              title=\"Convert this dataframe to an interactive table.\"\n",
              "              style=\"display:none;\">\n",
              "        \n",
              "  <svg xmlns=\"http://www.w3.org/2000/svg\" height=\"24px\"viewBox=\"0 0 24 24\"\n",
              "       width=\"24px\">\n",
              "    <path d=\"M0 0h24v24H0V0z\" fill=\"none\"/>\n",
              "    <path d=\"M18.56 5.44l.94 2.06.94-2.06 2.06-.94-2.06-.94-.94-2.06-.94 2.06-2.06.94zm-11 1L8.5 8.5l.94-2.06 2.06-.94-2.06-.94L8.5 2.5l-.94 2.06-2.06.94zm10 10l.94 2.06.94-2.06 2.06-.94-2.06-.94-.94-2.06-.94 2.06-2.06.94z\"/><path d=\"M17.41 7.96l-1.37-1.37c-.4-.4-.92-.59-1.43-.59-.52 0-1.04.2-1.43.59L10.3 9.45l-7.72 7.72c-.78.78-.78 2.05 0 2.83L4 21.41c.39.39.9.59 1.41.59.51 0 1.02-.2 1.41-.59l7.78-7.78 2.81-2.81c.8-.78.8-2.07 0-2.86zM5.41 20L4 18.59l7.72-7.72 1.47 1.35L5.41 20z\"/>\n",
              "  </svg>\n",
              "      </button>\n",
              "      \n",
              "  <style>\n",
              "    .colab-df-container {\n",
              "      display:flex;\n",
              "      flex-wrap:wrap;\n",
              "      gap: 12px;\n",
              "    }\n",
              "\n",
              "    .colab-df-convert {\n",
              "      background-color: #E8F0FE;\n",
              "      border: none;\n",
              "      border-radius: 50%;\n",
              "      cursor: pointer;\n",
              "      display: none;\n",
              "      fill: #1967D2;\n",
              "      height: 32px;\n",
              "      padding: 0 0 0 0;\n",
              "      width: 32px;\n",
              "    }\n",
              "\n",
              "    .colab-df-convert:hover {\n",
              "      background-color: #E2EBFA;\n",
              "      box-shadow: 0px 1px 2px rgba(60, 64, 67, 0.3), 0px 1px 3px 1px rgba(60, 64, 67, 0.15);\n",
              "      fill: #174EA6;\n",
              "    }\n",
              "\n",
              "    [theme=dark] .colab-df-convert {\n",
              "      background-color: #3B4455;\n",
              "      fill: #D2E3FC;\n",
              "    }\n",
              "\n",
              "    [theme=dark] .colab-df-convert:hover {\n",
              "      background-color: #434B5C;\n",
              "      box-shadow: 0px 1px 3px 1px rgba(0, 0, 0, 0.15);\n",
              "      filter: drop-shadow(0px 1px 2px rgba(0, 0, 0, 0.3));\n",
              "      fill: #FFFFFF;\n",
              "    }\n",
              "  </style>\n",
              "\n",
              "      <script>\n",
              "        const buttonEl =\n",
              "          document.querySelector('#df-0dedf6fa-986b-4cdf-a78c-d9300712e24d button.colab-df-convert');\n",
              "        buttonEl.style.display =\n",
              "          google.colab.kernel.accessAllowed ? 'block' : 'none';\n",
              "\n",
              "        async function convertToInteractive(key) {\n",
              "          const element = document.querySelector('#df-0dedf6fa-986b-4cdf-a78c-d9300712e24d');\n",
              "          const dataTable =\n",
              "            await google.colab.kernel.invokeFunction('convertToInteractive',\n",
              "                                                     [key], {});\n",
              "          if (!dataTable) return;\n",
              "\n",
              "          const docLinkHtml = 'Like what you see? Visit the ' +\n",
              "            '<a target=\"_blank\" href=https://colab.research.google.com/notebooks/data_table.ipynb>data table notebook</a>'\n",
              "            + ' to learn more about interactive tables.';\n",
              "          element.innerHTML = '';\n",
              "          dataTable['output_type'] = 'display_data';\n",
              "          await google.colab.output.renderOutput(dataTable, element);\n",
              "          const docLink = document.createElement('div');\n",
              "          docLink.innerHTML = docLinkHtml;\n",
              "          element.appendChild(docLink);\n",
              "        }\n",
              "      </script>\n",
              "    </div>\n",
              "  </div>\n",
              "  "
            ]
          },
          "metadata": {},
          "execution_count": 168
        }
      ]
    },
    {
      "cell_type": "code",
      "source": [
        "non_defaulters_sample = non_defaulters.sample(n=1854)"
      ],
      "metadata": {
        "id": "PO7KnevsJl7M"
      },
      "execution_count": 169,
      "outputs": []
    },
    {
      "cell_type": "code",
      "source": [
        "semi_final = pd.concat([non_defaulters_sample, defaulters], axis = 0)\n",
        "semi_final.head()\n",
        "semi_final.shape"
      ],
      "metadata": {
        "colab": {
          "base_uri": "https://localhost:8080/"
        },
        "id": "yOZkKwADKMHN",
        "outputId": "a42654f9-a451-4ef8-a3b1-243105cca606"
      },
      "execution_count": 170,
      "outputs": [
        {
          "output_type": "execute_result",
          "data": {
            "text/plain": [
              "(3708, 25)"
            ]
          },
          "metadata": {},
          "execution_count": 170
        }
      ]
    },
    {
      "cell_type": "markdown",
      "source": [
        "Divide the data into categorical and numerical data, encode the categorical data"
      ],
      "metadata": {
        "id": "jWyJcpsVdGEU"
      }
    },
    {
      "cell_type": "code",
      "source": [
        "categorical_values = semi_final.select_dtypes(include=['object']) \n",
        "numerical_values = semi_final.select_dtypes(exclude=['object'])"
      ],
      "metadata": {
        "id": "K9QQBhlRLB2O"
      },
      "execution_count": 171,
      "outputs": []
    },
    {
      "cell_type": "code",
      "source": [
        "columns_to_norminal_encode = ['Product code of Two wheeler',\t'Gender',\t\n",
        "                             'Employment type', 'Resident type of customer', 'Tier']"
      ],
      "metadata": {
        "id": "uqtVMzi9LOUe"
      },
      "execution_count": 172,
      "outputs": []
    },
    {
      "cell_type": "code",
      "source": [
        "encoded_df = pd.get_dummies(semi_final, columns=columns_to_norminal_encode)\n",
        "encoded_df.shape"
      ],
      "metadata": {
        "colab": {
          "base_uri": "https://localhost:8080/"
        },
        "id": "GP5KOI10LUsI",
        "outputId": "4c144a97-246f-4237-cd6c-ac2274f4f090"
      },
      "execution_count": 173,
      "outputs": [
        {
          "output_type": "execute_result",
          "data": {
            "text/plain": [
              "(3708, 39)"
            ]
          },
          "metadata": {},
          "execution_count": 173
        }
      ]
    },
    {
      "cell_type": "code",
      "source": [
        "encoded_df.head()"
      ],
      "metadata": {
        "colab": {
          "base_uri": "https://localhost:8080/",
          "height": 409
        },
        "id": "hCb2-qMWLoEY",
        "outputId": "06bee563-49fd-4fd9-f00f-bd81799a224f"
      },
      "execution_count": 174,
      "outputs": [
        {
          "output_type": "execute_result",
          "data": {
            "text/plain": [
              "       Customer has bounced in first EMI  No of times bounced 12 months  \\\n",
              "26837                                  0                              1   \n",
              "27273                                  0                              2   \n",
              "52086                                  0                              0   \n",
              "15316                                  0                              1   \n",
              "44524                                  0                              2   \n",
              "\n",
              "       Maximum MOB  No of times bounced while repaying the loan     EMI  \\\n",
              "26837         14.0                                          1.0  1585.0   \n",
              "27273         19.0                                          2.0  2382.0   \n",
              "52086         18.0                                          0.0  1932.0   \n",
              "15316         21.0                                          1.0  2330.0   \n",
              "44524         13.0                                          2.0  2178.0   \n",
              "\n",
              "       Loan Amount  Tenure  \\\n",
              "26837      23000.0    18.0   \n",
              "27273      48540.0    24.0   \n",
              "52086      49500.0    36.0   \n",
              "15316      47475.0    24.0   \n",
              "44524      32000.0    18.0   \n",
              "\n",
              "       Dealer codes from where customer has purchased the Two wheeler  \\\n",
              "26837                                             1080.0                \n",
              "27273                                             1228.0                \n",
              "52086                                             3798.0                \n",
              "15316                                             3715.0                \n",
              "44524                                             1125.0                \n",
              "\n",
              "       No of advance EMI paid  Rate of interest  \\\n",
              "26837                     0.0             16.00   \n",
              "27273                     1.0              8.88   \n",
              "52086                     0.0             13.50   \n",
              "15316                     1.0              8.88   \n",
              "44524                     1.0             15.00   \n",
              "\n",
              "       Customer age when loan was taken  No of loans  No of secured loans  \\\n",
              "26837                              45.0            1                    1   \n",
              "27273                              31.0            3                    2   \n",
              "52086                              34.0            5                    1   \n",
              "15316                              40.0            1                    1   \n",
              "44524                              42.0            1                    1   \n",
              "\n",
              "       No of unsecured loans  No of new loans in last 3 months  \\\n",
              "26837                      0                                 0   \n",
              "27273                      1                                 0   \n",
              "52086                      4                                 0   \n",
              "15316                      0                                 0   \n",
              "44524                      0                                 0   \n",
              "\n",
              "       Maximum amount sanctioned for any Two wheeler loan  \\\n",
              "26837                                            23000.0    \n",
              "27273                                            54000.0    \n",
              "52086                                            49500.0    \n",
              "15316                                            47475.0    \n",
              "44524                                            32000.0    \n",
              "\n",
              "       No of times 30 days past due in last 6 months  \\\n",
              "26837                                              0   \n",
              "27273                                              2   \n",
              "52086                                              0   \n",
              "15316                                              0   \n",
              "44524                                              0   \n",
              "\n",
              "       No of times 60 days past due in last 6 months  \\\n",
              "26837                                              0   \n",
              "27273                                              1   \n",
              "52086                                              0   \n",
              "15316                                              0   \n",
              "44524                                              0   \n",
              "\n",
              "       No of times 90 days past due in last 3 months  Target variable  \\\n",
              "26837                                              0                0   \n",
              "27273                                              0                0   \n",
              "52086                                              0                0   \n",
              "15316                                              0                0   \n",
              "44524                                              0                0   \n",
              "\n",
              "       Product code of Two wheeler_MC  Product code of Two wheeler_MO  \\\n",
              "26837                               0                               1   \n",
              "27273                               0                               0   \n",
              "52086                               0                               0   \n",
              "15316                               0                               0   \n",
              "44524                               0                               1   \n",
              "\n",
              "       Product code of Two wheeler_SC  Product code of Two wheeler_TL  \\\n",
              "26837                               0                               0   \n",
              "27273                               1                               0   \n",
              "52086                               1                               0   \n",
              "15316                               1                               0   \n",
              "44524                               0                               0   \n",
              "\n",
              "       Gender_FEMALE  Gender_MALE  Employment type_HOUSEWIFE  \\\n",
              "26837              0            1                          0   \n",
              "27273              0            1                          0   \n",
              "52086              0            1                          0   \n",
              "15316              1            0                          0   \n",
              "44524              0            1                          0   \n",
              "\n",
              "       Employment type_PENS  Employment type_SAL  Employment type_SELF  \\\n",
              "26837                     0                    0                     1   \n",
              "27273                     0                    1                     0   \n",
              "52086                     0                    0                     1   \n",
              "15316                     0                    0                     1   \n",
              "44524                     0                    0                     1   \n",
              "\n",
              "       Employment type_STUDENT  Resident type of customer_OWENED BY OFFICE  \\\n",
              "26837                        0                                           0   \n",
              "27273                        0                                           0   \n",
              "52086                        0                                           0   \n",
              "15316                        0                                           0   \n",
              "44524                        0                                           0   \n",
              "\n",
              "       Resident type of customer_OWNED  Resident type of customer_RENT  \\\n",
              "26837                                1                               0   \n",
              "27273                                1                               0   \n",
              "52086                                1                               0   \n",
              "15316                                1                               0   \n",
              "44524                                1                               0   \n",
              "\n",
              "       Resident type of customer_Unknown  Tier_TIER 1  Tier_TIER 2  \\\n",
              "26837                                  0            0            0   \n",
              "27273                                  0            1            0   \n",
              "52086                                  0            0            0   \n",
              "15316                                  0            0            0   \n",
              "44524                                  0            0            0   \n",
              "\n",
              "       Tier_TIER 3  Tier_TIER 4  \n",
              "26837            0            1  \n",
              "27273            0            0  \n",
              "52086            1            0  \n",
              "15316            0            1  \n",
              "44524            0            1  "
            ],
            "text/html": [
              "\n",
              "  <div id=\"df-3d28fb69-a0f3-4e81-a511-84551be92cb3\">\n",
              "    <div class=\"colab-df-container\">\n",
              "      <div>\n",
              "<style scoped>\n",
              "    .dataframe tbody tr th:only-of-type {\n",
              "        vertical-align: middle;\n",
              "    }\n",
              "\n",
              "    .dataframe tbody tr th {\n",
              "        vertical-align: top;\n",
              "    }\n",
              "\n",
              "    .dataframe thead th {\n",
              "        text-align: right;\n",
              "    }\n",
              "</style>\n",
              "<table border=\"1\" class=\"dataframe\">\n",
              "  <thead>\n",
              "    <tr style=\"text-align: right;\">\n",
              "      <th></th>\n",
              "      <th>Customer has bounced in first EMI</th>\n",
              "      <th>No of times bounced 12 months</th>\n",
              "      <th>Maximum MOB</th>\n",
              "      <th>No of times bounced while repaying the loan</th>\n",
              "      <th>EMI</th>\n",
              "      <th>Loan Amount</th>\n",
              "      <th>Tenure</th>\n",
              "      <th>Dealer codes from where customer has purchased the Two wheeler</th>\n",
              "      <th>No of advance EMI paid</th>\n",
              "      <th>Rate of interest</th>\n",
              "      <th>Customer age when loan was taken</th>\n",
              "      <th>No of loans</th>\n",
              "      <th>No of secured loans</th>\n",
              "      <th>No of unsecured loans</th>\n",
              "      <th>No of new loans in last 3 months</th>\n",
              "      <th>Maximum amount sanctioned for any Two wheeler loan</th>\n",
              "      <th>No of times 30 days past due in last 6 months</th>\n",
              "      <th>No of times 60 days past due in last 6 months</th>\n",
              "      <th>No of times 90 days past due in last 3 months</th>\n",
              "      <th>Target variable</th>\n",
              "      <th>Product code of Two wheeler_MC</th>\n",
              "      <th>Product code of Two wheeler_MO</th>\n",
              "      <th>Product code of Two wheeler_SC</th>\n",
              "      <th>Product code of Two wheeler_TL</th>\n",
              "      <th>Gender_FEMALE</th>\n",
              "      <th>Gender_MALE</th>\n",
              "      <th>Employment type_HOUSEWIFE</th>\n",
              "      <th>Employment type_PENS</th>\n",
              "      <th>Employment type_SAL</th>\n",
              "      <th>Employment type_SELF</th>\n",
              "      <th>Employment type_STUDENT</th>\n",
              "      <th>Resident type of customer_OWENED BY OFFICE</th>\n",
              "      <th>Resident type of customer_OWNED</th>\n",
              "      <th>Resident type of customer_RENT</th>\n",
              "      <th>Resident type of customer_Unknown</th>\n",
              "      <th>Tier_TIER 1</th>\n",
              "      <th>Tier_TIER 2</th>\n",
              "      <th>Tier_TIER 3</th>\n",
              "      <th>Tier_TIER 4</th>\n",
              "    </tr>\n",
              "  </thead>\n",
              "  <tbody>\n",
              "    <tr>\n",
              "      <th>26837</th>\n",
              "      <td>0</td>\n",
              "      <td>1</td>\n",
              "      <td>14.0</td>\n",
              "      <td>1.0</td>\n",
              "      <td>1585.0</td>\n",
              "      <td>23000.0</td>\n",
              "      <td>18.0</td>\n",
              "      <td>1080.0</td>\n",
              "      <td>0.0</td>\n",
              "      <td>16.00</td>\n",
              "      <td>45.0</td>\n",
              "      <td>1</td>\n",
              "      <td>1</td>\n",
              "      <td>0</td>\n",
              "      <td>0</td>\n",
              "      <td>23000.0</td>\n",
              "      <td>0</td>\n",
              "      <td>0</td>\n",
              "      <td>0</td>\n",
              "      <td>0</td>\n",
              "      <td>0</td>\n",
              "      <td>1</td>\n",
              "      <td>0</td>\n",
              "      <td>0</td>\n",
              "      <td>0</td>\n",
              "      <td>1</td>\n",
              "      <td>0</td>\n",
              "      <td>0</td>\n",
              "      <td>0</td>\n",
              "      <td>1</td>\n",
              "      <td>0</td>\n",
              "      <td>0</td>\n",
              "      <td>1</td>\n",
              "      <td>0</td>\n",
              "      <td>0</td>\n",
              "      <td>0</td>\n",
              "      <td>0</td>\n",
              "      <td>0</td>\n",
              "      <td>1</td>\n",
              "    </tr>\n",
              "    <tr>\n",
              "      <th>27273</th>\n",
              "      <td>0</td>\n",
              "      <td>2</td>\n",
              "      <td>19.0</td>\n",
              "      <td>2.0</td>\n",
              "      <td>2382.0</td>\n",
              "      <td>48540.0</td>\n",
              "      <td>24.0</td>\n",
              "      <td>1228.0</td>\n",
              "      <td>1.0</td>\n",
              "      <td>8.88</td>\n",
              "      <td>31.0</td>\n",
              "      <td>3</td>\n",
              "      <td>2</td>\n",
              "      <td>1</td>\n",
              "      <td>0</td>\n",
              "      <td>54000.0</td>\n",
              "      <td>2</td>\n",
              "      <td>1</td>\n",
              "      <td>0</td>\n",
              "      <td>0</td>\n",
              "      <td>0</td>\n",
              "      <td>0</td>\n",
              "      <td>1</td>\n",
              "      <td>0</td>\n",
              "      <td>0</td>\n",
              "      <td>1</td>\n",
              "      <td>0</td>\n",
              "      <td>0</td>\n",
              "      <td>1</td>\n",
              "      <td>0</td>\n",
              "      <td>0</td>\n",
              "      <td>0</td>\n",
              "      <td>1</td>\n",
              "      <td>0</td>\n",
              "      <td>0</td>\n",
              "      <td>1</td>\n",
              "      <td>0</td>\n",
              "      <td>0</td>\n",
              "      <td>0</td>\n",
              "    </tr>\n",
              "    <tr>\n",
              "      <th>52086</th>\n",
              "      <td>0</td>\n",
              "      <td>0</td>\n",
              "      <td>18.0</td>\n",
              "      <td>0.0</td>\n",
              "      <td>1932.0</td>\n",
              "      <td>49500.0</td>\n",
              "      <td>36.0</td>\n",
              "      <td>3798.0</td>\n",
              "      <td>0.0</td>\n",
              "      <td>13.50</td>\n",
              "      <td>34.0</td>\n",
              "      <td>5</td>\n",
              "      <td>1</td>\n",
              "      <td>4</td>\n",
              "      <td>0</td>\n",
              "      <td>49500.0</td>\n",
              "      <td>0</td>\n",
              "      <td>0</td>\n",
              "      <td>0</td>\n",
              "      <td>0</td>\n",
              "      <td>0</td>\n",
              "      <td>0</td>\n",
              "      <td>1</td>\n",
              "      <td>0</td>\n",
              "      <td>0</td>\n",
              "      <td>1</td>\n",
              "      <td>0</td>\n",
              "      <td>0</td>\n",
              "      <td>0</td>\n",
              "      <td>1</td>\n",
              "      <td>0</td>\n",
              "      <td>0</td>\n",
              "      <td>1</td>\n",
              "      <td>0</td>\n",
              "      <td>0</td>\n",
              "      <td>0</td>\n",
              "      <td>0</td>\n",
              "      <td>1</td>\n",
              "      <td>0</td>\n",
              "    </tr>\n",
              "    <tr>\n",
              "      <th>15316</th>\n",
              "      <td>0</td>\n",
              "      <td>1</td>\n",
              "      <td>21.0</td>\n",
              "      <td>1.0</td>\n",
              "      <td>2330.0</td>\n",
              "      <td>47475.0</td>\n",
              "      <td>24.0</td>\n",
              "      <td>3715.0</td>\n",
              "      <td>1.0</td>\n",
              "      <td>8.88</td>\n",
              "      <td>40.0</td>\n",
              "      <td>1</td>\n",
              "      <td>1</td>\n",
              "      <td>0</td>\n",
              "      <td>0</td>\n",
              "      <td>47475.0</td>\n",
              "      <td>0</td>\n",
              "      <td>0</td>\n",
              "      <td>0</td>\n",
              "      <td>0</td>\n",
              "      <td>0</td>\n",
              "      <td>0</td>\n",
              "      <td>1</td>\n",
              "      <td>0</td>\n",
              "      <td>1</td>\n",
              "      <td>0</td>\n",
              "      <td>0</td>\n",
              "      <td>0</td>\n",
              "      <td>0</td>\n",
              "      <td>1</td>\n",
              "      <td>0</td>\n",
              "      <td>0</td>\n",
              "      <td>1</td>\n",
              "      <td>0</td>\n",
              "      <td>0</td>\n",
              "      <td>0</td>\n",
              "      <td>0</td>\n",
              "      <td>0</td>\n",
              "      <td>1</td>\n",
              "    </tr>\n",
              "    <tr>\n",
              "      <th>44524</th>\n",
              "      <td>0</td>\n",
              "      <td>2</td>\n",
              "      <td>13.0</td>\n",
              "      <td>2.0</td>\n",
              "      <td>2178.0</td>\n",
              "      <td>32000.0</td>\n",
              "      <td>18.0</td>\n",
              "      <td>1125.0</td>\n",
              "      <td>1.0</td>\n",
              "      <td>15.00</td>\n",
              "      <td>42.0</td>\n",
              "      <td>1</td>\n",
              "      <td>1</td>\n",
              "      <td>0</td>\n",
              "      <td>0</td>\n",
              "      <td>32000.0</td>\n",
              "      <td>0</td>\n",
              "      <td>0</td>\n",
              "      <td>0</td>\n",
              "      <td>0</td>\n",
              "      <td>0</td>\n",
              "      <td>1</td>\n",
              "      <td>0</td>\n",
              "      <td>0</td>\n",
              "      <td>0</td>\n",
              "      <td>1</td>\n",
              "      <td>0</td>\n",
              "      <td>0</td>\n",
              "      <td>0</td>\n",
              "      <td>1</td>\n",
              "      <td>0</td>\n",
              "      <td>0</td>\n",
              "      <td>1</td>\n",
              "      <td>0</td>\n",
              "      <td>0</td>\n",
              "      <td>0</td>\n",
              "      <td>0</td>\n",
              "      <td>0</td>\n",
              "      <td>1</td>\n",
              "    </tr>\n",
              "  </tbody>\n",
              "</table>\n",
              "</div>\n",
              "      <button class=\"colab-df-convert\" onclick=\"convertToInteractive('df-3d28fb69-a0f3-4e81-a511-84551be92cb3')\"\n",
              "              title=\"Convert this dataframe to an interactive table.\"\n",
              "              style=\"display:none;\">\n",
              "        \n",
              "  <svg xmlns=\"http://www.w3.org/2000/svg\" height=\"24px\"viewBox=\"0 0 24 24\"\n",
              "       width=\"24px\">\n",
              "    <path d=\"M0 0h24v24H0V0z\" fill=\"none\"/>\n",
              "    <path d=\"M18.56 5.44l.94 2.06.94-2.06 2.06-.94-2.06-.94-.94-2.06-.94 2.06-2.06.94zm-11 1L8.5 8.5l.94-2.06 2.06-.94-2.06-.94L8.5 2.5l-.94 2.06-2.06.94zm10 10l.94 2.06.94-2.06 2.06-.94-2.06-.94-.94-2.06-.94 2.06-2.06.94z\"/><path d=\"M17.41 7.96l-1.37-1.37c-.4-.4-.92-.59-1.43-.59-.52 0-1.04.2-1.43.59L10.3 9.45l-7.72 7.72c-.78.78-.78 2.05 0 2.83L4 21.41c.39.39.9.59 1.41.59.51 0 1.02-.2 1.41-.59l7.78-7.78 2.81-2.81c.8-.78.8-2.07 0-2.86zM5.41 20L4 18.59l7.72-7.72 1.47 1.35L5.41 20z\"/>\n",
              "  </svg>\n",
              "      </button>\n",
              "      \n",
              "  <style>\n",
              "    .colab-df-container {\n",
              "      display:flex;\n",
              "      flex-wrap:wrap;\n",
              "      gap: 12px;\n",
              "    }\n",
              "\n",
              "    .colab-df-convert {\n",
              "      background-color: #E8F0FE;\n",
              "      border: none;\n",
              "      border-radius: 50%;\n",
              "      cursor: pointer;\n",
              "      display: none;\n",
              "      fill: #1967D2;\n",
              "      height: 32px;\n",
              "      padding: 0 0 0 0;\n",
              "      width: 32px;\n",
              "    }\n",
              "\n",
              "    .colab-df-convert:hover {\n",
              "      background-color: #E2EBFA;\n",
              "      box-shadow: 0px 1px 2px rgba(60, 64, 67, 0.3), 0px 1px 3px 1px rgba(60, 64, 67, 0.15);\n",
              "      fill: #174EA6;\n",
              "    }\n",
              "\n",
              "    [theme=dark] .colab-df-convert {\n",
              "      background-color: #3B4455;\n",
              "      fill: #D2E3FC;\n",
              "    }\n",
              "\n",
              "    [theme=dark] .colab-df-convert:hover {\n",
              "      background-color: #434B5C;\n",
              "      box-shadow: 0px 1px 3px 1px rgba(0, 0, 0, 0.15);\n",
              "      filter: drop-shadow(0px 1px 2px rgba(0, 0, 0, 0.3));\n",
              "      fill: #FFFFFF;\n",
              "    }\n",
              "  </style>\n",
              "\n",
              "      <script>\n",
              "        const buttonEl =\n",
              "          document.querySelector('#df-3d28fb69-a0f3-4e81-a511-84551be92cb3 button.colab-df-convert');\n",
              "        buttonEl.style.display =\n",
              "          google.colab.kernel.accessAllowed ? 'block' : 'none';\n",
              "\n",
              "        async function convertToInteractive(key) {\n",
              "          const element = document.querySelector('#df-3d28fb69-a0f3-4e81-a511-84551be92cb3');\n",
              "          const dataTable =\n",
              "            await google.colab.kernel.invokeFunction('convertToInteractive',\n",
              "                                                     [key], {});\n",
              "          if (!dataTable) return;\n",
              "\n",
              "          const docLinkHtml = 'Like what you see? Visit the ' +\n",
              "            '<a target=\"_blank\" href=https://colab.research.google.com/notebooks/data_table.ipynb>data table notebook</a>'\n",
              "            + ' to learn more about interactive tables.';\n",
              "          element.innerHTML = '';\n",
              "          dataTable['output_type'] = 'display_data';\n",
              "          await google.colab.output.renderOutput(dataTable, element);\n",
              "          const docLink = document.createElement('div');\n",
              "          docLink.innerHTML = docLinkHtml;\n",
              "          element.appendChild(docLink);\n",
              "        }\n",
              "      </script>\n",
              "    </div>\n",
              "  </div>\n",
              "  "
            ]
          },
          "metadata": {},
          "execution_count": 174
        }
      ]
    },
    {
      "cell_type": "markdown",
      "source": [
        "Split the data into training and testing data. Save it to a df called final_df"
      ],
      "metadata": {
        "id": "ZWW6uPZdcOIh"
      }
    },
    {
      "cell_type": "code",
      "source": [
        "X_train, X_test, y_train, y_test = train_test_split(encoded_df, encoded_df['Target variable'], test_size=0.3, random_state=42)\n",
        "\n",
        "X_train = X_train.drop('Target variable', axis=1)\n",
        "X_test = X_test.drop('Target variable', axis=1)\n",
        "\n",
        "scaler = StandardScaler()\n",
        "X_train_standardized = scaler.fit_transform(X_train)\n",
        "X_test_standardized = scaler.transform(X_test)\n"
      ],
      "metadata": {
        "id": "EFjesNFeIFjm"
      },
      "execution_count": 205,
      "outputs": []
    },
    {
      "cell_type": "code",
      "source": [
        "print(X_train.shape,X_test.shape,y_train.shape,y_test.shape)"
      ],
      "metadata": {
        "colab": {
          "base_uri": "https://localhost:8080/"
        },
        "id": "De6p7kT4Pv2P",
        "outputId": "8ac5e3e4-1c4b-4e76-b8a3-6cde58860b1a"
      },
      "execution_count": 206,
      "outputs": [
        {
          "output_type": "stream",
          "name": "stdout",
          "text": [
            "(2595, 38) (1113, 38) (2595,) (1113,)\n"
          ]
        }
      ]
    },
    {
      "cell_type": "code",
      "source": [
        "final_df_train = pd.DataFrame(data=X_train_standardized, columns=X_train.columns)\n",
        "final_df_test = pd.DataFrame(data=X_test_standardized, columns=X_test.columns)\n",
        "\n",
        "final_df_train['Target variable'] = y_train\n",
        "final_df_test['Target variable'] = y_test\n",
        "\n",
        "final_df = pd.concat([final_df_train, final_df_test], ignore_index=True)"
      ],
      "metadata": {
        "id": "EwwTGLDWLxcH"
      },
      "execution_count": 207,
      "outputs": []
    },
    {
      "cell_type": "code",
      "source": [
        "final_df.shape"
      ],
      "metadata": {
        "colab": {
          "base_uri": "https://localhost:8080/"
        },
        "id": "hsxP_ny_Of1U",
        "outputId": "f3a4092c-12bc-44a0-b8a7-88058ecd8dee"
      },
      "execution_count": 208,
      "outputs": [
        {
          "output_type": "execute_result",
          "data": {
            "text/plain": [
              "(3708, 39)"
            ]
          },
          "metadata": {},
          "execution_count": 208
        }
      ]
    },
    {
      "cell_type": "code",
      "source": [
        "final_df.head()"
      ],
      "metadata": {
        "colab": {
          "base_uri": "https://localhost:8080/",
          "height": 409
        },
        "id": "vSaW5ZZ3OpZj",
        "outputId": "0d166f36-38a7-447a-804e-a782ca9b922e"
      },
      "execution_count": 209,
      "outputs": [
        {
          "output_type": "execute_result",
          "data": {
            "text/plain": [
              "   Customer has bounced in first EMI  No of times bounced 12 months  \\\n",
              "0                          -0.194936                      -0.648881   \n",
              "1                          -0.194936                      -0.648881   \n",
              "2                          -0.194936                      -0.648881   \n",
              "3                          -0.194936                       0.279882   \n",
              "4                          -0.194936                       3.066170   \n",
              "\n",
              "   Maximum MOB  No of times bounced while repaying the loan       EMI  \\\n",
              "0    -1.080198                                    -0.721548  0.556277   \n",
              "1    -0.115470                                    -0.721548  0.460757   \n",
              "2    -0.887252                                    -0.721548 -0.632410   \n",
              "3    -1.466089                                     0.013021  0.108750   \n",
              "4    -0.501361                                     2.216730 -0.796916   \n",
              "\n",
              "   Loan Amount    Tenure  \\\n",
              "0    -0.586606 -1.142282   \n",
              "1     0.880108  0.427012   \n",
              "2    -1.047837 -0.619184   \n",
              "3    -1.398372 -1.665380   \n",
              "4    -1.561832 -1.142282   \n",
              "\n",
              "   Dealer codes from where customer has purchased the Two wheeler  \\\n",
              "0                                           1.421654                \n",
              "1                                           4.660488                \n",
              "2                                          -0.629402                \n",
              "3                                           0.393181                \n",
              "4                                          -0.179252                \n",
              "\n",
              "   No of advance EMI paid  Rate of interest  Customer age when loan was taken  \\\n",
              "0               -0.620364          0.521299                         -0.882450   \n",
              "1               -0.620364          0.203285                         -1.089181   \n",
              "2                0.405015          0.965468                          0.874762   \n",
              "3               -0.620364          0.702646                          0.564666   \n",
              "4               -0.620364          1.346559                         -0.262257   \n",
              "\n",
              "   No of loans  No of secured loans  No of unsecured loans  \\\n",
              "0    -0.620147            -0.579788              -0.363318   \n",
              "1    -0.254982            -0.009883              -0.363318   \n",
              "2     0.840512             0.560023               0.010665   \n",
              "3    -0.072400            -0.294836              -0.363318   \n",
              "4    -0.437565            -0.294836              -0.363318   \n",
              "\n",
              "   No of new loans in last 3 months  \\\n",
              "0                               0.0   \n",
              "1                               0.0   \n",
              "2                               0.0   \n",
              "3                               0.0   \n",
              "4                               0.0   \n",
              "\n",
              "   Maximum amount sanctioned for any Two wheeler loan  \\\n",
              "0                                          -2.068368    \n",
              "1                                           0.704217    \n",
              "2                                          -0.457046    \n",
              "3                                          -0.668185    \n",
              "4                                          -0.766642    \n",
              "\n",
              "   No of times 30 days past due in last 6 months  \\\n",
              "0                                      -0.449908   \n",
              "1                                      -0.449908   \n",
              "2                                      -0.449908   \n",
              "3                                      -0.449908   \n",
              "4                                      -0.292710   \n",
              "\n",
              "   No of times 60 days past due in last 6 months  \\\n",
              "0                                      -0.386534   \n",
              "1                                      -0.386534   \n",
              "2                                      -0.386534   \n",
              "3                                      -0.386534   \n",
              "4                                      -0.386534   \n",
              "\n",
              "   No of times 90 days past due in last 3 months  \\\n",
              "0                                      -0.323865   \n",
              "1                                      -0.323865   \n",
              "2                                      -0.323865   \n",
              "3                                      -0.323865   \n",
              "4                                      -0.323865   \n",
              "\n",
              "   Product code of Two wheeler_MC  Product code of Two wheeler_MO  \\\n",
              "0                       -0.686966                       -0.595302   \n",
              "1                        1.455675                       -0.595302   \n",
              "2                       -0.686966                        1.679820   \n",
              "3                       -0.686966                        1.679820   \n",
              "4                       -0.686966                        1.679820   \n",
              "\n",
              "   Product code of Two wheeler_SC  Product code of Two wheeler_TL  \\\n",
              "0                       -0.712017                        3.361336   \n",
              "1                       -0.712017                       -0.297501   \n",
              "2                       -0.712017                       -0.297501   \n",
              "3                       -0.712017                       -0.297501   \n",
              "4                       -0.712017                       -0.297501   \n",
              "\n",
              "   Gender_FEMALE  Gender_MALE  Employment type_HOUSEWIFE  \\\n",
              "0      -0.360187     0.360187                  -0.126701   \n",
              "1      -0.360187     0.360187                  -0.126701   \n",
              "2      -0.360187     0.360187                  -0.126701   \n",
              "3      -0.360187     0.360187                  -0.126701   \n",
              "4      -0.360187     0.360187                  -0.126701   \n",
              "\n",
              "   Employment type_PENS  Employment type_SAL  Employment type_SELF  \\\n",
              "0             -0.043937             1.715742             -1.618409   \n",
              "1             -0.043937            -0.582838              0.617891   \n",
              "2             -0.043937            -0.582838              0.617891   \n",
              "3             -0.043937            -0.582838              0.617891   \n",
              "4             -0.043937            -0.582838              0.617891   \n",
              "\n",
              "   Employment type_STUDENT  Resident type of customer_OWENED BY OFFICE  \\\n",
              "0                -0.070957                                   -0.043937   \n",
              "1                -0.070957                                   -0.043937   \n",
              "2                -0.070957                                   -0.043937   \n",
              "3                -0.070957                                   -0.043937   \n",
              "4                -0.070957                                   -0.043937   \n",
              "\n",
              "   Resident type of customer_OWNED  Resident type of customer_RENT  \\\n",
              "0                        -2.541042                        2.661600   \n",
              "1                         0.393539                       -0.375714   \n",
              "2                         0.393539                       -0.375714   \n",
              "3                         0.393539                       -0.375714   \n",
              "4                         0.393539                       -0.375714   \n",
              "\n",
              "   Resident type of customer_Unknown  Tier_TIER 1  Tier_TIER 2  Tier_TIER 3  \\\n",
              "0                          -0.092468     1.983295    -0.541271    -0.585805   \n",
              "1                          -0.092468     1.983295    -0.541271    -0.585805   \n",
              "2                          -0.092468    -0.504211    -0.541271    -0.585805   \n",
              "3                          -0.092468    -0.504211     1.847502    -0.585805   \n",
              "4                          -0.092468    -0.504211    -0.541271     1.707052   \n",
              "\n",
              "   Tier_TIER 4  Target variable  \n",
              "0    -0.678474              NaN  \n",
              "1    -0.678474              NaN  \n",
              "2     1.473897              NaN  \n",
              "3    -0.678474              NaN  \n",
              "4    -0.678474              NaN  "
            ],
            "text/html": [
              "\n",
              "  <div id=\"df-335eeaec-11d7-4c6b-b416-0453d2db4054\">\n",
              "    <div class=\"colab-df-container\">\n",
              "      <div>\n",
              "<style scoped>\n",
              "    .dataframe tbody tr th:only-of-type {\n",
              "        vertical-align: middle;\n",
              "    }\n",
              "\n",
              "    .dataframe tbody tr th {\n",
              "        vertical-align: top;\n",
              "    }\n",
              "\n",
              "    .dataframe thead th {\n",
              "        text-align: right;\n",
              "    }\n",
              "</style>\n",
              "<table border=\"1\" class=\"dataframe\">\n",
              "  <thead>\n",
              "    <tr style=\"text-align: right;\">\n",
              "      <th></th>\n",
              "      <th>Customer has bounced in first EMI</th>\n",
              "      <th>No of times bounced 12 months</th>\n",
              "      <th>Maximum MOB</th>\n",
              "      <th>No of times bounced while repaying the loan</th>\n",
              "      <th>EMI</th>\n",
              "      <th>Loan Amount</th>\n",
              "      <th>Tenure</th>\n",
              "      <th>Dealer codes from where customer has purchased the Two wheeler</th>\n",
              "      <th>No of advance EMI paid</th>\n",
              "      <th>Rate of interest</th>\n",
              "      <th>Customer age when loan was taken</th>\n",
              "      <th>No of loans</th>\n",
              "      <th>No of secured loans</th>\n",
              "      <th>No of unsecured loans</th>\n",
              "      <th>No of new loans in last 3 months</th>\n",
              "      <th>Maximum amount sanctioned for any Two wheeler loan</th>\n",
              "      <th>No of times 30 days past due in last 6 months</th>\n",
              "      <th>No of times 60 days past due in last 6 months</th>\n",
              "      <th>No of times 90 days past due in last 3 months</th>\n",
              "      <th>Product code of Two wheeler_MC</th>\n",
              "      <th>Product code of Two wheeler_MO</th>\n",
              "      <th>Product code of Two wheeler_SC</th>\n",
              "      <th>Product code of Two wheeler_TL</th>\n",
              "      <th>Gender_FEMALE</th>\n",
              "      <th>Gender_MALE</th>\n",
              "      <th>Employment type_HOUSEWIFE</th>\n",
              "      <th>Employment type_PENS</th>\n",
              "      <th>Employment type_SAL</th>\n",
              "      <th>Employment type_SELF</th>\n",
              "      <th>Employment type_STUDENT</th>\n",
              "      <th>Resident type of customer_OWENED BY OFFICE</th>\n",
              "      <th>Resident type of customer_OWNED</th>\n",
              "      <th>Resident type of customer_RENT</th>\n",
              "      <th>Resident type of customer_Unknown</th>\n",
              "      <th>Tier_TIER 1</th>\n",
              "      <th>Tier_TIER 2</th>\n",
              "      <th>Tier_TIER 3</th>\n",
              "      <th>Tier_TIER 4</th>\n",
              "      <th>Target variable</th>\n",
              "    </tr>\n",
              "  </thead>\n",
              "  <tbody>\n",
              "    <tr>\n",
              "      <th>0</th>\n",
              "      <td>-0.194936</td>\n",
              "      <td>-0.648881</td>\n",
              "      <td>-1.080198</td>\n",
              "      <td>-0.721548</td>\n",
              "      <td>0.556277</td>\n",
              "      <td>-0.586606</td>\n",
              "      <td>-1.142282</td>\n",
              "      <td>1.421654</td>\n",
              "      <td>-0.620364</td>\n",
              "      <td>0.521299</td>\n",
              "      <td>-0.882450</td>\n",
              "      <td>-0.620147</td>\n",
              "      <td>-0.579788</td>\n",
              "      <td>-0.363318</td>\n",
              "      <td>0.0</td>\n",
              "      <td>-2.068368</td>\n",
              "      <td>-0.449908</td>\n",
              "      <td>-0.386534</td>\n",
              "      <td>-0.323865</td>\n",
              "      <td>-0.686966</td>\n",
              "      <td>-0.595302</td>\n",
              "      <td>-0.712017</td>\n",
              "      <td>3.361336</td>\n",
              "      <td>-0.360187</td>\n",
              "      <td>0.360187</td>\n",
              "      <td>-0.126701</td>\n",
              "      <td>-0.043937</td>\n",
              "      <td>1.715742</td>\n",
              "      <td>-1.618409</td>\n",
              "      <td>-0.070957</td>\n",
              "      <td>-0.043937</td>\n",
              "      <td>-2.541042</td>\n",
              "      <td>2.661600</td>\n",
              "      <td>-0.092468</td>\n",
              "      <td>1.983295</td>\n",
              "      <td>-0.541271</td>\n",
              "      <td>-0.585805</td>\n",
              "      <td>-0.678474</td>\n",
              "      <td>NaN</td>\n",
              "    </tr>\n",
              "    <tr>\n",
              "      <th>1</th>\n",
              "      <td>-0.194936</td>\n",
              "      <td>-0.648881</td>\n",
              "      <td>-0.115470</td>\n",
              "      <td>-0.721548</td>\n",
              "      <td>0.460757</td>\n",
              "      <td>0.880108</td>\n",
              "      <td>0.427012</td>\n",
              "      <td>4.660488</td>\n",
              "      <td>-0.620364</td>\n",
              "      <td>0.203285</td>\n",
              "      <td>-1.089181</td>\n",
              "      <td>-0.254982</td>\n",
              "      <td>-0.009883</td>\n",
              "      <td>-0.363318</td>\n",
              "      <td>0.0</td>\n",
              "      <td>0.704217</td>\n",
              "      <td>-0.449908</td>\n",
              "      <td>-0.386534</td>\n",
              "      <td>-0.323865</td>\n",
              "      <td>1.455675</td>\n",
              "      <td>-0.595302</td>\n",
              "      <td>-0.712017</td>\n",
              "      <td>-0.297501</td>\n",
              "      <td>-0.360187</td>\n",
              "      <td>0.360187</td>\n",
              "      <td>-0.126701</td>\n",
              "      <td>-0.043937</td>\n",
              "      <td>-0.582838</td>\n",
              "      <td>0.617891</td>\n",
              "      <td>-0.070957</td>\n",
              "      <td>-0.043937</td>\n",
              "      <td>0.393539</td>\n",
              "      <td>-0.375714</td>\n",
              "      <td>-0.092468</td>\n",
              "      <td>1.983295</td>\n",
              "      <td>-0.541271</td>\n",
              "      <td>-0.585805</td>\n",
              "      <td>-0.678474</td>\n",
              "      <td>NaN</td>\n",
              "    </tr>\n",
              "    <tr>\n",
              "      <th>2</th>\n",
              "      <td>-0.194936</td>\n",
              "      <td>-0.648881</td>\n",
              "      <td>-0.887252</td>\n",
              "      <td>-0.721548</td>\n",
              "      <td>-0.632410</td>\n",
              "      <td>-1.047837</td>\n",
              "      <td>-0.619184</td>\n",
              "      <td>-0.629402</td>\n",
              "      <td>0.405015</td>\n",
              "      <td>0.965468</td>\n",
              "      <td>0.874762</td>\n",
              "      <td>0.840512</td>\n",
              "      <td>0.560023</td>\n",
              "      <td>0.010665</td>\n",
              "      <td>0.0</td>\n",
              "      <td>-0.457046</td>\n",
              "      <td>-0.449908</td>\n",
              "      <td>-0.386534</td>\n",
              "      <td>-0.323865</td>\n",
              "      <td>-0.686966</td>\n",
              "      <td>1.679820</td>\n",
              "      <td>-0.712017</td>\n",
              "      <td>-0.297501</td>\n",
              "      <td>-0.360187</td>\n",
              "      <td>0.360187</td>\n",
              "      <td>-0.126701</td>\n",
              "      <td>-0.043937</td>\n",
              "      <td>-0.582838</td>\n",
              "      <td>0.617891</td>\n",
              "      <td>-0.070957</td>\n",
              "      <td>-0.043937</td>\n",
              "      <td>0.393539</td>\n",
              "      <td>-0.375714</td>\n",
              "      <td>-0.092468</td>\n",
              "      <td>-0.504211</td>\n",
              "      <td>-0.541271</td>\n",
              "      <td>-0.585805</td>\n",
              "      <td>1.473897</td>\n",
              "      <td>NaN</td>\n",
              "    </tr>\n",
              "    <tr>\n",
              "      <th>3</th>\n",
              "      <td>-0.194936</td>\n",
              "      <td>0.279882</td>\n",
              "      <td>-1.466089</td>\n",
              "      <td>0.013021</td>\n",
              "      <td>0.108750</td>\n",
              "      <td>-1.398372</td>\n",
              "      <td>-1.665380</td>\n",
              "      <td>0.393181</td>\n",
              "      <td>-0.620364</td>\n",
              "      <td>0.702646</td>\n",
              "      <td>0.564666</td>\n",
              "      <td>-0.072400</td>\n",
              "      <td>-0.294836</td>\n",
              "      <td>-0.363318</td>\n",
              "      <td>0.0</td>\n",
              "      <td>-0.668185</td>\n",
              "      <td>-0.449908</td>\n",
              "      <td>-0.386534</td>\n",
              "      <td>-0.323865</td>\n",
              "      <td>-0.686966</td>\n",
              "      <td>1.679820</td>\n",
              "      <td>-0.712017</td>\n",
              "      <td>-0.297501</td>\n",
              "      <td>-0.360187</td>\n",
              "      <td>0.360187</td>\n",
              "      <td>-0.126701</td>\n",
              "      <td>-0.043937</td>\n",
              "      <td>-0.582838</td>\n",
              "      <td>0.617891</td>\n",
              "      <td>-0.070957</td>\n",
              "      <td>-0.043937</td>\n",
              "      <td>0.393539</td>\n",
              "      <td>-0.375714</td>\n",
              "      <td>-0.092468</td>\n",
              "      <td>-0.504211</td>\n",
              "      <td>1.847502</td>\n",
              "      <td>-0.585805</td>\n",
              "      <td>-0.678474</td>\n",
              "      <td>NaN</td>\n",
              "    </tr>\n",
              "    <tr>\n",
              "      <th>4</th>\n",
              "      <td>-0.194936</td>\n",
              "      <td>3.066170</td>\n",
              "      <td>-0.501361</td>\n",
              "      <td>2.216730</td>\n",
              "      <td>-0.796916</td>\n",
              "      <td>-1.561832</td>\n",
              "      <td>-1.142282</td>\n",
              "      <td>-0.179252</td>\n",
              "      <td>-0.620364</td>\n",
              "      <td>1.346559</td>\n",
              "      <td>-0.262257</td>\n",
              "      <td>-0.437565</td>\n",
              "      <td>-0.294836</td>\n",
              "      <td>-0.363318</td>\n",
              "      <td>0.0</td>\n",
              "      <td>-0.766642</td>\n",
              "      <td>-0.292710</td>\n",
              "      <td>-0.386534</td>\n",
              "      <td>-0.323865</td>\n",
              "      <td>-0.686966</td>\n",
              "      <td>1.679820</td>\n",
              "      <td>-0.712017</td>\n",
              "      <td>-0.297501</td>\n",
              "      <td>-0.360187</td>\n",
              "      <td>0.360187</td>\n",
              "      <td>-0.126701</td>\n",
              "      <td>-0.043937</td>\n",
              "      <td>-0.582838</td>\n",
              "      <td>0.617891</td>\n",
              "      <td>-0.070957</td>\n",
              "      <td>-0.043937</td>\n",
              "      <td>0.393539</td>\n",
              "      <td>-0.375714</td>\n",
              "      <td>-0.092468</td>\n",
              "      <td>-0.504211</td>\n",
              "      <td>-0.541271</td>\n",
              "      <td>1.707052</td>\n",
              "      <td>-0.678474</td>\n",
              "      <td>NaN</td>\n",
              "    </tr>\n",
              "  </tbody>\n",
              "</table>\n",
              "</div>\n",
              "      <button class=\"colab-df-convert\" onclick=\"convertToInteractive('df-335eeaec-11d7-4c6b-b416-0453d2db4054')\"\n",
              "              title=\"Convert this dataframe to an interactive table.\"\n",
              "              style=\"display:none;\">\n",
              "        \n",
              "  <svg xmlns=\"http://www.w3.org/2000/svg\" height=\"24px\"viewBox=\"0 0 24 24\"\n",
              "       width=\"24px\">\n",
              "    <path d=\"M0 0h24v24H0V0z\" fill=\"none\"/>\n",
              "    <path d=\"M18.56 5.44l.94 2.06.94-2.06 2.06-.94-2.06-.94-.94-2.06-.94 2.06-2.06.94zm-11 1L8.5 8.5l.94-2.06 2.06-.94-2.06-.94L8.5 2.5l-.94 2.06-2.06.94zm10 10l.94 2.06.94-2.06 2.06-.94-2.06-.94-.94-2.06-.94 2.06-2.06.94z\"/><path d=\"M17.41 7.96l-1.37-1.37c-.4-.4-.92-.59-1.43-.59-.52 0-1.04.2-1.43.59L10.3 9.45l-7.72 7.72c-.78.78-.78 2.05 0 2.83L4 21.41c.39.39.9.59 1.41.59.51 0 1.02-.2 1.41-.59l7.78-7.78 2.81-2.81c.8-.78.8-2.07 0-2.86zM5.41 20L4 18.59l7.72-7.72 1.47 1.35L5.41 20z\"/>\n",
              "  </svg>\n",
              "      </button>\n",
              "      \n",
              "  <style>\n",
              "    .colab-df-container {\n",
              "      display:flex;\n",
              "      flex-wrap:wrap;\n",
              "      gap: 12px;\n",
              "    }\n",
              "\n",
              "    .colab-df-convert {\n",
              "      background-color: #E8F0FE;\n",
              "      border: none;\n",
              "      border-radius: 50%;\n",
              "      cursor: pointer;\n",
              "      display: none;\n",
              "      fill: #1967D2;\n",
              "      height: 32px;\n",
              "      padding: 0 0 0 0;\n",
              "      width: 32px;\n",
              "    }\n",
              "\n",
              "    .colab-df-convert:hover {\n",
              "      background-color: #E2EBFA;\n",
              "      box-shadow: 0px 1px 2px rgba(60, 64, 67, 0.3), 0px 1px 3px 1px rgba(60, 64, 67, 0.15);\n",
              "      fill: #174EA6;\n",
              "    }\n",
              "\n",
              "    [theme=dark] .colab-df-convert {\n",
              "      background-color: #3B4455;\n",
              "      fill: #D2E3FC;\n",
              "    }\n",
              "\n",
              "    [theme=dark] .colab-df-convert:hover {\n",
              "      background-color: #434B5C;\n",
              "      box-shadow: 0px 1px 3px 1px rgba(0, 0, 0, 0.15);\n",
              "      filter: drop-shadow(0px 1px 2px rgba(0, 0, 0, 0.3));\n",
              "      fill: #FFFFFF;\n",
              "    }\n",
              "  </style>\n",
              "\n",
              "      <script>\n",
              "        const buttonEl =\n",
              "          document.querySelector('#df-335eeaec-11d7-4c6b-b416-0453d2db4054 button.colab-df-convert');\n",
              "        buttonEl.style.display =\n",
              "          google.colab.kernel.accessAllowed ? 'block' : 'none';\n",
              "\n",
              "        async function convertToInteractive(key) {\n",
              "          const element = document.querySelector('#df-335eeaec-11d7-4c6b-b416-0453d2db4054');\n",
              "          const dataTable =\n",
              "            await google.colab.kernel.invokeFunction('convertToInteractive',\n",
              "                                                     [key], {});\n",
              "          if (!dataTable) return;\n",
              "\n",
              "          const docLinkHtml = 'Like what you see? Visit the ' +\n",
              "            '<a target=\"_blank\" href=https://colab.research.google.com/notebooks/data_table.ipynb>data table notebook</a>'\n",
              "            + ' to learn more about interactive tables.';\n",
              "          element.innerHTML = '';\n",
              "          dataTable['output_type'] = 'display_data';\n",
              "          await google.colab.output.renderOutput(dataTable, element);\n",
              "          const docLink = document.createElement('div');\n",
              "          docLink.innerHTML = docLinkHtml;\n",
              "          element.appendChild(docLink);\n",
              "        }\n",
              "      </script>\n",
              "    </div>\n",
              "  </div>\n",
              "  "
            ]
          },
          "metadata": {},
          "execution_count": 209
        }
      ]
    },
    {
      "cell_type": "markdown",
      "source": [
        "Model the data. Use different algorithms to see has better accuracy."
      ],
      "metadata": {
        "id": "7N43ZiAGb52m"
      }
    },
    {
      "cell_type": "code",
      "source": [
        "model = LogisticRegression(max_iter=3000)"
      ],
      "metadata": {
        "id": "v3MVfhMkO1z4"
      },
      "execution_count": 210,
      "outputs": []
    },
    {
      "cell_type": "code",
      "source": [
        "model = LogisticRegression()\n",
        "model.fit(X_train, y_train)"
      ],
      "metadata": {
        "colab": {
          "base_uri": "https://localhost:8080/",
          "height": 234
        },
        "id": "QMZdWJdPQ0dj",
        "outputId": "19ac1887-5595-40d6-fd57-b161addbcf7d"
      },
      "execution_count": 211,
      "outputs": [
        {
          "output_type": "stream",
          "name": "stderr",
          "text": [
            "/usr/local/lib/python3.10/dist-packages/sklearn/linear_model/_logistic.py:458: ConvergenceWarning: lbfgs failed to converge (status=1):\n",
            "STOP: TOTAL NO. of ITERATIONS REACHED LIMIT.\n",
            "\n",
            "Increase the number of iterations (max_iter) or scale the data as shown in:\n",
            "    https://scikit-learn.org/stable/modules/preprocessing.html\n",
            "Please also refer to the documentation for alternative solver options:\n",
            "    https://scikit-learn.org/stable/modules/linear_model.html#logistic-regression\n",
            "  n_iter_i = _check_optimize_result(\n"
          ]
        },
        {
          "output_type": "execute_result",
          "data": {
            "text/plain": [
              "LogisticRegression()"
            ],
            "text/html": [
              "<style>#sk-container-id-7 {color: black;background-color: white;}#sk-container-id-7 pre{padding: 0;}#sk-container-id-7 div.sk-toggleable {background-color: white;}#sk-container-id-7 label.sk-toggleable__label {cursor: pointer;display: block;width: 100%;margin-bottom: 0;padding: 0.3em;box-sizing: border-box;text-align: center;}#sk-container-id-7 label.sk-toggleable__label-arrow:before {content: \"▸\";float: left;margin-right: 0.25em;color: #696969;}#sk-container-id-7 label.sk-toggleable__label-arrow:hover:before {color: black;}#sk-container-id-7 div.sk-estimator:hover label.sk-toggleable__label-arrow:before {color: black;}#sk-container-id-7 div.sk-toggleable__content {max-height: 0;max-width: 0;overflow: hidden;text-align: left;background-color: #f0f8ff;}#sk-container-id-7 div.sk-toggleable__content pre {margin: 0.2em;color: black;border-radius: 0.25em;background-color: #f0f8ff;}#sk-container-id-7 input.sk-toggleable__control:checked~div.sk-toggleable__content {max-height: 200px;max-width: 100%;overflow: auto;}#sk-container-id-7 input.sk-toggleable__control:checked~label.sk-toggleable__label-arrow:before {content: \"▾\";}#sk-container-id-7 div.sk-estimator input.sk-toggleable__control:checked~label.sk-toggleable__label {background-color: #d4ebff;}#sk-container-id-7 div.sk-label input.sk-toggleable__control:checked~label.sk-toggleable__label {background-color: #d4ebff;}#sk-container-id-7 input.sk-hidden--visually {border: 0;clip: rect(1px 1px 1px 1px);clip: rect(1px, 1px, 1px, 1px);height: 1px;margin: -1px;overflow: hidden;padding: 0;position: absolute;width: 1px;}#sk-container-id-7 div.sk-estimator {font-family: monospace;background-color: #f0f8ff;border: 1px dotted black;border-radius: 0.25em;box-sizing: border-box;margin-bottom: 0.5em;}#sk-container-id-7 div.sk-estimator:hover {background-color: #d4ebff;}#sk-container-id-7 div.sk-parallel-item::after {content: \"\";width: 100%;border-bottom: 1px solid gray;flex-grow: 1;}#sk-container-id-7 div.sk-label:hover label.sk-toggleable__label {background-color: #d4ebff;}#sk-container-id-7 div.sk-serial::before {content: \"\";position: absolute;border-left: 1px solid gray;box-sizing: border-box;top: 0;bottom: 0;left: 50%;z-index: 0;}#sk-container-id-7 div.sk-serial {display: flex;flex-direction: column;align-items: center;background-color: white;padding-right: 0.2em;padding-left: 0.2em;position: relative;}#sk-container-id-7 div.sk-item {position: relative;z-index: 1;}#sk-container-id-7 div.sk-parallel {display: flex;align-items: stretch;justify-content: center;background-color: white;position: relative;}#sk-container-id-7 div.sk-item::before, #sk-container-id-7 div.sk-parallel-item::before {content: \"\";position: absolute;border-left: 1px solid gray;box-sizing: border-box;top: 0;bottom: 0;left: 50%;z-index: -1;}#sk-container-id-7 div.sk-parallel-item {display: flex;flex-direction: column;z-index: 1;position: relative;background-color: white;}#sk-container-id-7 div.sk-parallel-item:first-child::after {align-self: flex-end;width: 50%;}#sk-container-id-7 div.sk-parallel-item:last-child::after {align-self: flex-start;width: 50%;}#sk-container-id-7 div.sk-parallel-item:only-child::after {width: 0;}#sk-container-id-7 div.sk-dashed-wrapped {border: 1px dashed gray;margin: 0 0.4em 0.5em 0.4em;box-sizing: border-box;padding-bottom: 0.4em;background-color: white;}#sk-container-id-7 div.sk-label label {font-family: monospace;font-weight: bold;display: inline-block;line-height: 1.2em;}#sk-container-id-7 div.sk-label-container {text-align: center;}#sk-container-id-7 div.sk-container {/* jupyter's `normalize.less` sets `[hidden] { display: none; }` but bootstrap.min.css set `[hidden] { display: none !important; }` so we also need the `!important` here to be able to override the default hidden behavior on the sphinx rendered scikit-learn.org. See: https://github.com/scikit-learn/scikit-learn/issues/21755 */display: inline-block !important;position: relative;}#sk-container-id-7 div.sk-text-repr-fallback {display: none;}</style><div id=\"sk-container-id-7\" class=\"sk-top-container\"><div class=\"sk-text-repr-fallback\"><pre>LogisticRegression()</pre><b>In a Jupyter environment, please rerun this cell to show the HTML representation or trust the notebook. <br />On GitHub, the HTML representation is unable to render, please try loading this page with nbviewer.org.</b></div><div class=\"sk-container\" hidden><div class=\"sk-item\"><div class=\"sk-estimator sk-toggleable\"><input class=\"sk-toggleable__control sk-hidden--visually\" id=\"sk-estimator-id-7\" type=\"checkbox\" checked><label for=\"sk-estimator-id-7\" class=\"sk-toggleable__label sk-toggleable__label-arrow\">LogisticRegression</label><div class=\"sk-toggleable__content\"><pre>LogisticRegression()</pre></div></div></div></div></div>"
            ]
          },
          "metadata": {},
          "execution_count": 211
        }
      ]
    },
    {
      "cell_type": "code",
      "source": [
        "X_train_predictions = model.predict(X_train)\n",
        "training_data_accuracy = accuracy_score(X_train_predictions, y_train)"
      ],
      "metadata": {
        "id": "A4H0z5lVS_rx"
      },
      "execution_count": 212,
      "outputs": []
    },
    {
      "cell_type": "code",
      "source": [
        "training_data_accuracy"
      ],
      "metadata": {
        "colab": {
          "base_uri": "https://localhost:8080/"
        },
        "id": "D1iT3Og2UDp-",
        "outputId": "a40829ac-9d04-4728-bfa6-fbdb7b817032"
      },
      "execution_count": 213,
      "outputs": [
        {
          "output_type": "execute_result",
          "data": {
            "text/plain": [
              "0.7267822736030829"
            ]
          },
          "metadata": {},
          "execution_count": 213
        }
      ]
    },
    {
      "cell_type": "code",
      "source": [
        "X_test_predictions = model.predict(X_test)\n",
        "testing_data_accuracy = accuracy_score(X_test_predictions, y_test)"
      ],
      "metadata": {
        "id": "kRXFmpt1U99g"
      },
      "execution_count": 214,
      "outputs": []
    },
    {
      "cell_type": "code",
      "source": [
        "testing_data_accuracy"
      ],
      "metadata": {
        "colab": {
          "base_uri": "https://localhost:8080/"
        },
        "id": "48C4DeBoXEaL",
        "outputId": "36c6ec84-6bf1-4000-e106-401d1fee31d0"
      },
      "execution_count": 215,
      "outputs": [
        {
          "output_type": "execute_result",
          "data": {
            "text/plain": [
              "0.7241689128481581"
            ]
          },
          "metadata": {},
          "execution_count": 215
        }
      ]
    },
    {
      "cell_type": "code",
      "source": [
        "model = RandomForestClassifier(max_depth=4,min_samples_leaf=3, random_state = 10) \n",
        "model.fit(X_train, y_train)\n",
        "\n",
        "yhat = model.predict(X_test)\n",
        "print(f'Train accuracy: {accuracy_score(y_test,yhat)}')\n",
        "\n",
        "pred_train = model.predict(X_train)\n",
        "print(f'Test accuracy: {accuracy_score(y_train,pred_train)}')"
      ],
      "metadata": {
        "colab": {
          "base_uri": "https://localhost:8080/"
        },
        "id": "7Gfr30ouXH0p",
        "outputId": "745f4b63-5715-4bd7-fd21-4ba53a06aedb"
      },
      "execution_count": 217,
      "outputs": [
        {
          "output_type": "stream",
          "name": "stdout",
          "text": [
            "Train accuracy: 0.756513926325247\n",
            "Test accuracy: 0.7714836223506744\n"
          ]
        }
      ]
    }
  ]
}